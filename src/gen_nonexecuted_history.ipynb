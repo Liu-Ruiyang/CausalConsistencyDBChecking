{
 "cells": [
  {
   "cell_type": "code",
   "execution_count": 2,
   "metadata": {
    "ExecuteTime": {
     "end_time": "2021-02-15T12:49:39.424131Z",
     "start_time": "2021-02-15T12:49:38.293776Z"
    }
   },
   "outputs": [],
   "source": [
    "import linecache\n",
    "import os\n",
    "import time\n",
    "import random\n",
    "import matplotlib.pyplot as plt\n",
    "import pandas as pd\n",
    "import sys\n",
    "import threading\n",
    "import time"
   ]
  },
  {
   "cell_type": "code",
   "execution_count": 3,
   "metadata": {
    "ExecuteTime": {
     "end_time": "2021-02-15T12:49:40.087246Z",
     "start_time": "2021-02-15T12:49:39.631075Z"
    }
   },
   "outputs": [],
   "source": [
    "from antidotedb import *\n",
    "import sys\n",
    "\n"
   ]
  },
  {
   "cell_type": "code",
   "execution_count": 4,
   "metadata": {
    "ExecuteTime": {
     "end_time": "2021-02-15T12:49:41.441008Z",
     "start_time": "2021-02-15T12:49:41.435710Z"
    },
    "code_folding": [
     3
    ]
   },
   "outputs": [],
   "source": [
    "import numpy as np\n",
    "from matplotlib import pyplot as plt\n",
    "\n",
    "def Zipf(a: np.float64, min: np.uint64, max: np.uint64, size=None):\n",
    "    \"\"\"\n",
    "    Generate Zipf-like random variables,\n",
    "    but in inclusive [min...max] interval\n",
    "    \"\"\"\n",
    "    if min == 0:\n",
    "        raise ZeroDivisionError(\"\")\n",
    "\n",
    "    v = np.arange(min, max+1) # values to sample\n",
    "    p = 1.0 / np.power(v, a)  # probabilities\n",
    "    p /= np.sum(p)            # normalized\n",
    "\n",
    "    return np.random.choice(v, size=size, replace=True, p=p)\n"
   ]
  },
  {
   "cell_type": "code",
   "execution_count": 5,
   "metadata": {
    "ExecuteTime": {
     "end_time": "2021-02-15T12:49:43.665975Z",
     "start_time": "2021-02-15T12:49:43.659520Z"
    },
    "code_folding": [
     1
    ]
   },
   "outputs": [],
   "source": [
    "# 每个单独的op\n",
    "class Operation:\n",
    "    op_type = True  #true is write\n",
    "    variable = 0\n",
    "    value = 0\n",
    "    \n",
    "    def __init__(self, op_type, variable, value):\n",
    "        self.op_type = op_type\n",
    "        self.variable = variable\n",
    "        self.value = value\n",
    "\n",
    "    def Read(self,variable):\n",
    "        self.op_type = False\n",
    "        self.variable = variable\n",
    "        self.value = 0\n",
    "    def Write(self,variable,value):\n",
    "        self.op_type = True\n",
    "        self.variable = variable\n",
    "        self.value = value\n",
    "    def Display_info(self):\n",
    "        if(op_type==True):\n",
    "            print(\"write,\" + str(variable) + \",\" + str(value))\n",
    "        elif(op_type==False):\n",
    "            print(\"read,\" + str(variable) + \",\" + str(value))\n",
    "        else:\n",
    "            print(\"Error in Operation op_type!\")"
   ]
  },
  {
   "cell_type": "code",
   "execution_count": 6,
   "metadata": {
    "ExecuteTime": {
     "end_time": "2021-02-15T12:49:44.455528Z",
     "start_time": "2021-02-15T12:49:44.452101Z"
    },
    "code_folding": [
     1
    ]
   },
   "outputs": [],
   "source": [
    "# 每个trans包括很多op，用list保存\n",
    "class Transaction:\n",
    "    op_list = []\n",
    "    def __init__(self, op_list):\n",
    "        op_list = op_list\n",
    "        \n",
    "    def append_op(self,op):\n",
    "        self.op_list = self.op_list.append(op)"
   ]
  },
  {
   "cell_type": "code",
   "execution_count": 7,
   "metadata": {
    "ExecuteTime": {
     "end_time": "2021-02-15T12:49:45.074263Z",
     "start_time": "2021-02-15T12:49:45.071097Z"
    },
    "code_folding": [
     1
    ]
   },
   "outputs": [],
   "source": [
    "# 每个client包括多个trans，在这里我们默认只有一个client\n",
    "class Client:\n",
    "    trans_list = []\n",
    "    def __init__(self, trans_list):\n",
    "        trans_list = trans_list"
   ]
  },
  {
   "cell_type": "code",
   "execution_count": 8,
   "metadata": {
    "ExecuteTime": {
     "end_time": "2021-02-15T12:49:45.492900Z",
     "start_time": "2021-02-15T12:49:45.489272Z"
    },
    "code_folding": [
     1
    ]
   },
   "outputs": [],
   "source": [
    "# 用法：randon_pick([true,false],[0.5,0.5])\n",
    "def random_pick(some_list, probabilities): \n",
    "    x = random.uniform(0,1) \n",
    "    cumulative_probability = 0.0 \n",
    "    for item, item_probability in zip(some_list, probabilities): \n",
    "        cumulative_probability += item_probability \n",
    "        if x < cumulative_probability:\n",
    "               break \n",
    "    return item "
   ]
  },
  {
   "cell_type": "code",
   "execution_count": 9,
   "metadata": {
    "ExecuteTime": {
     "end_time": "2021-02-15T12:49:45.907880Z",
     "start_time": "2021-02-15T12:49:45.904426Z"
    },
    "code_folding": [
     0
    ]
   },
   "outputs": [],
   "source": [
    "def set_initval(counter,variable_num):\n",
    "    seq = []\n",
    "    for i in range (0,variable_num):\n",
    "        seq.append(i)\n",
    "        i = i + 1\n",
    "    counter = counter.fromkeys(seq, 0)\n",
    "    return counter"
   ]
  },
  {
   "cell_type": "code",
   "execution_count": 10,
   "metadata": {
    "ExecuteTime": {
     "end_time": "2021-02-15T12:49:46.428504Z",
     "start_time": "2021-02-15T12:49:46.422064Z"
    },
    "code_folding": [
     0
    ]
   },
   "outputs": [],
   "source": [
    "def write_result(result_single_history,file):\n",
    "    '''\n",
    "        result_single_history is a three dimensional list\n",
    "        file is the output path\n",
    "    '''\n",
    "    f=open(file,\"w\")\n",
    "    for n_clients in range(0,len(result_single_history)):\n",
    "        for n_trans in range(0,len(result_single_history[0])):\n",
    "            for n_ops in range(0,len(result_single_history[0][0])):\n",
    "                f.write(result_single_history[n_clients][n_trans][n_ops]+'\\n')\n",
    "    f.close()"
   ]
  },
  {
   "cell_type": "code",
   "execution_count": 55,
   "metadata": {
    "ExecuteTime": {
     "end_time": "2020-12-14T07:21:48.482920Z",
     "start_time": "2020-12-14T07:21:48.479141Z"
    }
   },
   "outputs": [
    {
     "name": "stdout",
     "output_type": "stream",
     "text": [
      "新的字典为 : {0: 0, 1: 0, 2: 0, 3: 0, 4: 0, 5: 0, 6: 0, 7: 0, 8: 0, 9: 0, 10: 0, 11: 0, 12: 0, 13: 0, 14: 0, 15: 0, 16: 0, 17: 0, 18: 0, 19: 0, 20: 0, 21: 0, 22: 0, 23: 0, 24: 0, 25: 0, 26: 0, 27: 0, 28: 0, 29: 0, 30: 0, 31: 0, 32: 0, 33: 0, 34: 0, 35: 0, 36: 0, 37: 0, 38: 0, 39: 0, 40: 0, 41: 0, 42: 0, 43: 0, 44: 0, 45: 0, 46: 0, 47: 0, 48: 0, 49: 0}\n",
      "True\n"
     ]
    }
   ],
   "source": [
    "counter = {} \n",
    "counter = set_initval(counter,50)\n",
    "print (\"新的字典为 : %s\" %  str(counter))\n",
    "op_type = random_pick([True,False],[0.5,0.5])\n",
    "print(op_type)"
   ]
  },
  {
   "cell_type": "code",
   "execution_count": 11,
   "metadata": {
    "ExecuteTime": {
     "end_time": "2021-02-15T12:49:52.067529Z",
     "start_time": "2021-02-15T12:49:52.054286Z"
    },
    "code_folding": [
     0
    ]
   },
   "outputs": [],
   "source": [
    "def uniform_generator(output_path, his, client, trans, ops, var, wr):\n",
    "    \n",
    "    #define params \n",
    "    his_file = his \n",
    "    client_num = client\n",
    "    trans_num = trans\n",
    "    op_num = ops\n",
    "    variable_num = var \n",
    "    all_hist = [] \n",
    "    for h in range (0,his_file): \n",
    "        doc =open(output_path+\"hist_\"+str(h)+\".txt\",'w')\n",
    "        new_hist = [] \n",
    "        counter = {} \n",
    "        counter = set_initval(counter,variable_num) \n",
    "        for c in range (0,client_num):\n",
    "            new_client = []\n",
    "            for t in range (0,trans_num):\n",
    "                new_transaction = []\n",
    "                for op in range (0,op_num):\n",
    "                    #按照比例选and是读或写\n",
    "                    if wr == 55:\n",
    "                        op_type = random_pick([True,False],[0.5,0.5])\n",
    "                    elif wr == 19:\n",
    "                        op_type = random_pick([True,False],[0.1,0.9])\n",
    "                    elif wr ==91:\n",
    "                        op_type = random_pick([True,False],[0.9,0.1])\n",
    "                    else:\n",
    "                        print('Wrong input wr!')\n",
    "\n",
    "                    if(op_type==False): #READ\n",
    "                    #   随机选择variable编号\n",
    "                        variable = random.randint(0,variable_num-1)\n",
    "                        new_op = Operation(False,variable,0)\n",
    "                    elif(op_type==True):\n",
    "                        variable = random.randint(0,variable_num-1)\n",
    "                        value = counter[variable] +1\n",
    "                        counter[variable] = value #更新counter内的值\n",
    "                        new_op = Operation(True,variable,value)\n",
    "                    else:\n",
    "                        print(\"Error in op_type!\")\n",
    "                    #new_op.Display_info()\n",
    "                    \n",
    "                    if(new_op.op_type==True):\n",
    "                        doc.write(\"write,\" + str(new_op.variable) + \",\" + str(new_op.value)+\"\\n\")\n",
    "                    elif(new_op.op_type==False):\n",
    "                        doc.write(\"read,\" + str(new_op.variable) + \",\" + str(new_op.value)+\"\\n\")\n",
    "                    else:\n",
    "                        print(\"Error in file Writing!\")\n",
    "        doc.close()\n",
    "        print(output_path+\"hist_\"+str(h)+\".txt\"+\" succeeded.\")\n",
    "                    # 需要将这个new_op保存到trans里面\n",
    "#                     new_transaction.append(new_op)\n",
    "\n",
    "#                 # 将新的new_transaction list保存到client 列表中\n",
    "#                 new_client.append(new_transaction)\n",
    "#             new_hist.append(new_client)\n",
    "#         all_hist.append(new_hist)\n",
    "#     # print all hist\n",
    "# #     print(len(all_hist))\n",
    "#     for h in range(0,len(all_hist)):\n",
    "#         print(\"history file\" + str(h) + \":\")\n",
    "#         for c in range(0,len(all_hist[h])):\n",
    "#             print(\"client\"+str(c)+\":\")\n",
    "#             for t in range(0,len(all_hist[h][c])):\n",
    "#                 print(\"transaction\" + str(t) + \":\")\n",
    "#                 for op in range(0,len(all_hist[h][c][t])):\n",
    "#                     print(\"op\"+str(op))\n",
    "#                     all_hist[h][c][t][op].Display_info()"
   ]
  },
  {
   "cell_type": "code",
   "execution_count": 12,
   "metadata": {
    "ExecuteTime": {
     "end_time": "2021-02-15T12:49:52.681206Z",
     "start_time": "2021-02-15T12:49:52.667523Z"
    },
    "code_folding": [
     0
    ]
   },
   "outputs": [],
   "source": [
    "def zipf_generator(output_path, his, client, trans, ops, var, wr):\n",
    "    \n",
    "    #define params \n",
    "    his_file = his \n",
    "    client_num = client\n",
    "    trans_num = trans\n",
    "    op_num = ops\n",
    "    variable_num = var \n",
    "    all_hist = [] \n",
    "    for h in range (0,his_file): \n",
    "        doc =open(output_path+\"hist_\"+str(h)+\".txt\",'w')\n",
    "        new_hist = [] \n",
    "        counter = {} \n",
    "        counter = set_initval(counter,variable_num)\n",
    "        \n",
    "        min = np.uint64(1)\n",
    "        max = np.uint64(var)\n",
    "\n",
    "        q = Zipf(1, min, max, client_num*trans_num*op_num)\n",
    "        variable_list = [int(x)-1 for x in q]\n",
    "        counter_for_variable = 0\n",
    "        \n",
    "        for c in range (0,client_num):\n",
    "            new_client = []\n",
    "            for t in range (0,trans_num):\n",
    "                new_transaction = []\n",
    "                for op in range (0,op_num):\n",
    "                    #按照比例选and是读或写\n",
    "                    if wr == 55:\n",
    "                        op_type = random_pick([True,False],[0.5,0.5])\n",
    "                    elif wr == 19:\n",
    "                        op_type = random_pick([True,False],[0.1,0.9])\n",
    "                    elif wr ==91:\n",
    "                        op_type = random_pick([True,False],[0.9,0.1])\n",
    "                    else:\n",
    "                        print('Wrong input wr!')\n",
    "\n",
    "                    if(op_type==False): #READ\n",
    "                    #   使用zipf分布选择variable编号\n",
    "                        variable = variable_list[counter_for_variable]\n",
    "                        counter_for_variable = counter_for_variable+1\n",
    "                        new_op = Operation(False,variable,0)\n",
    "                    elif(op_type==True):\n",
    "                        variable = variable_list[counter_for_variable]\n",
    "                        counter_for_variable = counter_for_variable+1\n",
    "                        value = counter[variable] +1\n",
    "                        counter[variable] = value #更新counter内的值\n",
    "                        new_op = Operation(True,variable,value)\n",
    "                    else:\n",
    "                        print(\"Error in op_type!\")\n",
    "                    #new_op.Display_info()\n",
    "                    \n",
    "                    if(new_op.op_type==True):\n",
    "                        doc.write(\"write,\" + str(new_op.variable) + \",\" + str(new_op.value)+\"\\n\")\n",
    "                    elif(new_op.op_type==False):\n",
    "                        doc.write(\"read,\" + str(new_op.variable) + \",\" + str(new_op.value)+\"\\n\")\n",
    "                    else:\n",
    "                        print(\"Error in file Writing!\")\n",
    "        doc.close()\n",
    "        print(output_path+\"hist_\"+str(h)+\".txt\"+\" succeeded.\")\n",
    "                    # 需要将这个new_op保存到trans里面\n",
    "#                     new_transaction.append(new_op)\n",
    "\n",
    "#                 # 将新的new_transaction list保存到client 列表中\n",
    "#                 new_client.append(new_transaction)\n",
    "#             new_hist.append(new_client)\n",
    "#         all_hist.append(new_hist)\n",
    "#     # print all hist\n",
    "# #     print(len(all_hist))\n",
    "#     for h in range(0,len(all_hist)):\n",
    "#         print(\"history file\" + str(h) + \":\")\n",
    "#         for c in range(0,len(all_hist[h])):\n",
    "#             print(\"client\"+str(c)+\":\")\n",
    "#             for t in range(0,len(all_hist[h][c])):\n",
    "#                 print(\"transaction\" + str(t) + \":\")\n",
    "#                 for op in range(0,len(all_hist[h][c][t])):\n",
    "#                     print(\"op\"+str(op))\n",
    "#                     all_hist[h][c][t][op].Display_info()"
   ]
  },
  {
   "cell_type": "code",
   "execution_count": 13,
   "metadata": {
    "ExecuteTime": {
     "end_time": "2021-02-15T12:49:53.788336Z",
     "start_time": "2021-02-15T12:49:53.772126Z"
    },
    "code_folding": [
     0
    ]
   },
   "outputs": [],
   "source": [
    "def restrict_generator(output_path, his, client, trans, ops, var):\n",
    "    '''\n",
    "        Because of the restrictions, var_num must larger than ops_num\n",
    "        Add three restrictions:\n",
    "        1: Write a key only once.\n",
    "        2: Read a key only once.\n",
    "        3: For a same key, read must appears earlier. i.e. If write a key, there will be no read operation on this key afterwards.\n",
    "    '''\n",
    "\n",
    "    #define params \n",
    "    his_file = his \n",
    "    client_num = client\n",
    "    trans_num = trans\n",
    "    op_num = ops\n",
    "    variable_num = var \n",
    "    all_hist = [] \n",
    "    \n",
    "    if op_num > variable_num:\n",
    "        print('Error: Because of the restrictions, var_num must larger than ops_num!')\n",
    "        return False\n",
    "    for h in range (0,his_file): \n",
    "        doc =open(output_path+\"restrict_hist_\"+str(h)+\".txt\",'w')\n",
    "        new_hist = [] \n",
    "        counter = {} \n",
    "        counter = set_initval(counter,variable_num) \n",
    "        for c in range (0,client_num):\n",
    "            new_client = []\n",
    "            for t in range (0,trans_num):\n",
    "                new_transaction = [] # Use to check the restrictions.\n",
    "                \n",
    "                for op in range (0,op_num):\n",
    "                    #按照比例选and是读或写\n",
    "                    op_type = random_pick([True,False],[0.5,0.5])\n",
    "\n",
    "                    if(op_type==False): #READ\n",
    "                    #   随机选择variable编号,但是不能是这个trans已经选择过的，如果选择到了已经读过的variable，那么就重新选。\n",
    "                        variable = 0\n",
    "                        while True:\n",
    "                            variable = random.randint(0,variable_num-1)\n",
    "                            flag = True\n",
    "                            for i in range (0,len(new_transaction)):\n",
    "                                if(variable==new_transaction[i].variable): #对于这个key，不论前面出现了这个key的读还是写，都不允许存在\n",
    "                                    flag = False\n",
    "                                else:\n",
    "                                    continue\n",
    "                            if(flag == True):\n",
    "                                break\n",
    "                            else:\n",
    "                                continue\n",
    "\n",
    "                        new_op = Operation(False,variable,0)\n",
    "                    elif(op_type==True): #Write\n",
    "                        variable = 0\n",
    "                        while True:\n",
    "                            variable = random.randint(0,variable_num-1)\n",
    "                            flag = True\n",
    "                            for i in range (0,len(new_transaction)):\n",
    "                                if(variable==new_transaction[i].variable and new_transaction[i].op_type==True):\n",
    "                                    flag = False\n",
    "                                else:\n",
    "                                    continue\n",
    "                            if(flag == True):\n",
    "                                break\n",
    "                            else:\n",
    "                                continue\n",
    "                        \n",
    "                        value = counter[variable] +1\n",
    "                        counter[variable] = value #更新counter内的值\n",
    "                        new_op = Operation(True,variable,value)\n",
    "                    else:\n",
    "                        print(\"Error in op_type!\")\n",
    "                    #new_op.Display_info()\n",
    "                    new_transaction.append(new_op)\n",
    "                    \n",
    "                    if(new_op.op_type==True):\n",
    "                        doc.write(\"write,\" + str(new_op.variable) + \",\" + str(new_op.value)+\"\\n\")\n",
    "                    elif(new_op.op_type==False):\n",
    "                        doc.write(\"read,\" + str(new_op.variable) + \",\" + str(new_op.value)+\"\\n\")\n",
    "                    else:\n",
    "                        print(\"Error in file Writing!\")\n",
    "                        \n",
    "                        \n",
    "        doc.close()\n",
    "        print(output_path+\"hist_\"+str(h)+\".txt\"+\" succeeded.\")\n",
    "        \n",
    "        return True\n",
    "                    # 需要将这个new_op保存到trans里面\n",
    "#                     new_transaction.append(new_op)\n",
    "\n",
    "#                 # 将新的new_transaction list保存到client 列表中\n",
    "#                 new_client.append(new_transaction)\n",
    "#             new_hist.append(new_client)\n",
    "#         all_hist.append(new_hist)\n",
    "#     # print all hist\n",
    "# #     print(len(all_hist))\n",
    "#     for h in range(0,len(all_hist)):\n",
    "#         print(\"history file\" + str(h) + \":\")\n",
    "#         for c in range(0,len(all_hist[h])):\n",
    "#             print(\"client\"+str(c)+\":\")\n",
    "#             for t in range(0,len(all_hist[h][c])):\n",
    "#                 print(\"transaction\" + str(t) + \":\")\n",
    "#                 for op in range(0,len(all_hist[h][c][t])):\n",
    "#                     print(\"op\"+str(op))\n",
    "#                     all_hist[h][c][t][op].Display_info()"
   ]
  },
  {
   "cell_type": "code",
   "execution_count": 14,
   "metadata": {
    "ExecuteTime": {
     "end_time": "2021-02-15T12:49:54.498214Z",
     "start_time": "2021-02-15T12:49:54.492906Z"
    },
    "code_folding": [
     0
    ]
   },
   "outputs": [],
   "source": [
    "def create_variables(n_trans,n_variable):\n",
    "    server = 'localhost'\n",
    "    port = 8087\n",
    "    clt = AntidoteClient(server,port) \n",
    "    tx = clt.start_transaction() \n",
    "    ops = [] #存储operation\n",
    "    \n",
    "    for j in range(0,n_trans):\n",
    "        for i in range(0,n_variable):\n",
    "            key = bytes(str(i),'utf-8')\n",
    "            trans = bytes(str(j),'utf-8')\n",
    "            op = Key('0',key , \"LWWREG\")\n",
    "            val = bytes('0','utf-8')\n",
    "            operation = tx.update_objects( Register.AssignOp( op, val))\n",
    "            #print(Register.AssignOp.getKey(op))\n",
    "            #print(Register.AssignOp.getType(op))\n",
    "            ops.append(op)\n",
    "    tx.commit()\n",
    "\n",
    "    \n",
    "#     commit = tx.commit()\n",
    "#     print(commit)"
   ]
  },
  {
   "cell_type": "code",
   "execution_count": 15,
   "metadata": {
    "ExecuteTime": {
     "end_time": "2021-02-15T12:49:55.009787Z",
     "start_time": "2021-02-15T12:49:55.004000Z"
    },
    "code_folding": [
     0
    ]
   },
   "outputs": [],
   "source": [
    "def generate_clients(hist_file,n_clients,n_trans,n_ops):\n",
    "    #input a single history file, contains n transactions.\n",
    "    #Output a list of transaction,each transaction is a list of operation\n",
    "    fo = open(hist_file, \"r\")\n",
    "    print (\"文件名为: \", fo.name)\n",
    "    list_line = []\n",
    "    for line in fo.readlines():                          #依次读取每行  \n",
    "        line = line.strip()                             #去掉每行头尾空白,line is a list, contains all ops in hist file\n",
    "        list_line.append(line)\n",
    "    # 关闭文件\n",
    "    fo.close()\n",
    "    # print(list_line)\n",
    "#     need a three dimension list: clients,trans,ops\n",
    "    start = 0\n",
    "    end = n_ops\n",
    "    list_clients = []\n",
    "    \n",
    "    \n",
    "    for i in range(0,n_clients):\n",
    "        temp_trans = []\n",
    "        for j in range(0,n_trans):\n",
    "            temp_ops = list_line[start:end]\n",
    "            temp_trans.append(temp_ops)\n",
    "            start = start+n_ops\n",
    "            end = end+n_ops\n",
    "        list_clients.append(temp_trans)\n",
    "        \n",
    "    return list_clients"
   ]
  },
  {
   "cell_type": "code",
   "execution_count": 16,
   "metadata": {
    "ExecuteTime": {
     "end_time": "2021-02-15T12:49:56.152543Z",
     "start_time": "2021-02-15T12:49:56.140952Z"
    },
    "code_folding": []
   },
   "outputs": [],
   "source": [
    "'''\n",
    "    list_of_ops is a 2 dimensional list, contains trans and ops.\n",
    "    each client is a thread.\n",
    "'''\n",
    "def exec_session(list_of_ops,client_id):\n",
    "    result_ops = []\n",
    "    server = 'localhost'\n",
    "    port = 8087\n",
    "    clt = AntidoteClient(server,port) \n",
    "    tx = clt.start_transaction()\n",
    "    n_trans = len(list_of_ops)\n",
    "    \n",
    "    op_num = 0\n",
    "    \n",
    "    for i in range(0,n_trans):\n",
    "        temp_tx_op = []\n",
    "        for j in range(0,len(list_of_ops[i])):\n",
    "#             print('now dealing with : '+list_of_ops[i][j])\n",
    "            op = str.split(list_of_ops[i][j],',',3)\n",
    "            # create a new variable\n",
    "            key = bytes(op[1],'utf-8')\n",
    "            trans = bytes(str(i),'utf-8')\n",
    "            new_key = Key('0',key , \"LWWREG\")\n",
    "            \n",
    "            if(op[0]=='write'):\n",
    "                # if op is a write, then set value to this key\n",
    "                val = bytes(op[2],'utf-8')\n",
    "                operation = tx.update_objects( Register.AssignOp( new_key, val))\n",
    "                res = tx.read_objects(new_key)\n",
    "                # record the op\n",
    "                record_key = int(Register.AssignOp.getKey(new_key))\n",
    "#                 print('write key: '+str(record_key))\n",
    "\n",
    "                record_val = int(res[0].value())\n",
    "#                 print('wirte key with value: '+str(record_val))\n",
    "                single_op = 'w(' +  str(record_key) +',' + str(record_val) +','+ str(client_id) +','+str(i) +','+ str(op_num)+')'\n",
    "                temp_tx_op.append(single_op)\n",
    "                op_num = op_num +1\n",
    "            elif(op[0]=='read'):\n",
    "                res = tx.read_objects(new_key)\n",
    "                # print( res[0].value())\n",
    "                record_key = int(Register.AssignOp.getKey(new_key))\n",
    "#                 print('read key: '+str(record_key))\n",
    "                record_val = int(res[0].value())\n",
    "#                 print('read key with value: '+str(record_val))\n",
    "                \n",
    "                single_op = 'r(' +  str(record_key) +',' + str(record_val) +','+ str(client_id) +','+str(i) +','+ str(op_num)+')'\n",
    "                temp_tx_op.append(single_op)\n",
    "                op_num = op_num +1\n",
    "            else:\n",
    "                print(\"unknown wrong type op.\")\n",
    "        result_ops.append(temp_tx_op)\n",
    "    tx.commit()\n",
    "    \n",
    "    return result_ops"
   ]
  },
  {
   "cell_type": "code",
   "execution_count": 17,
   "metadata": {
    "ExecuteTime": {
     "end_time": "2021-02-15T12:49:57.411866Z",
     "start_time": "2021-02-15T12:49:57.407757Z"
    },
    "code_folding": []
   },
   "outputs": [],
   "source": [
    "class MyThread(threading.Thread):\n",
    "    def __init__(self, func, args, name=''):\n",
    "        threading.Thread.__init__(self)\n",
    "        self.name = name\n",
    "        self.func = func\n",
    "        self.args = args\n",
    "        self.result = self.func(*self.args)\n",
    " \n",
    "    def get_result(self):\n",
    "        try:\n",
    "            return self.result\n",
    "        except Exception:\n",
    "            return None"
   ]
  },
  {
   "cell_type": "code",
   "execution_count": 18,
   "metadata": {
    "ExecuteTime": {
     "end_time": "2021-02-15T12:49:58.034469Z",
     "start_time": "2021-02-15T12:49:58.027644Z"
    },
    "code_folding": []
   },
   "outputs": [],
   "source": [
    "'''\n",
    "    execute a history file in multiple threads(clients).\n",
    "    history data is stored in a three dimensional list, list_of_ops.\n",
    "    \n",
    "'''\n",
    "def exec_history(list_of_ops):\n",
    "    n_clients = len(list_of_ops)\n",
    "    n_trans = len(list_of_ops[0])\n",
    "    n_ops = len(list_of_ops[0][0])\n",
    "    thread_clients = []\n",
    "#     each thread calls this: exec_session(list_of_ops[i_thread],i_result_ops), i_result_ops is a two dimensional list\n",
    "    result_clients = []\n",
    "\n",
    "    for i in range(0,n_clients):\n",
    "        new_client = MyThread(exec_session,(list_of_ops[i],i,), exec_session.__name__)\n",
    "        thread_clients.append(new_client)\n",
    "    for i in range(0,n_clients):\n",
    "        thread_clients[i].start()\n",
    "    for i in range(0,n_clients):\n",
    "        thread_clients[i].join()\n",
    "        \n",
    "    for i in range(0,n_clients):\n",
    "        temp_result = thread_clients[i].get_result()\n",
    "#         print(temp_result)\n",
    "        result_clients.append(temp_result)\n",
    "    \n",
    "    return result_clients"
   ]
  },
  {
   "cell_type": "code",
   "execution_count": 1,
   "metadata": {
    "ExecuteTime": {
     "end_time": "2021-02-15T12:49:33.079256Z",
     "start_time": "2021-02-15T12:49:32.589755Z"
    },
    "code_folding": []
   },
   "outputs": [
    {
     "ename": "NameError",
     "evalue": "name 'uniform_generator' is not defined",
     "output_type": "error",
     "traceback": [
      "\u001b[0;31m---------------------------------------------------------------------------\u001b[0m",
      "\u001b[0;31mNameError\u001b[0m                                 Traceback (most recent call last)",
      "\u001b[0;32m<ipython-input-1-d49b07742b90>\u001b[0m in \u001b[0;36m<module>\u001b[0;34m\u001b[0m\n\u001b[1;32m     15\u001b[0m                     \u001b[0mpath\u001b[0m \u001b[0;34m=\u001b[0m \u001b[0;34m'../DATA2/client'\u001b[0m \u001b[0;34m+\u001b[0m \u001b[0mstr\u001b[0m\u001b[0;34m(\u001b[0m\u001b[0mc\u001b[0m\u001b[0;34m)\u001b[0m \u001b[0;34m+\u001b[0m \u001b[0;34m'/transaction'\u001b[0m \u001b[0;34m+\u001b[0m \u001b[0mstr\u001b[0m\u001b[0;34m(\u001b[0m\u001b[0mt\u001b[0m\u001b[0;34m)\u001b[0m \u001b[0;34m+\u001b[0m \u001b[0;34m'/wr'\u001b[0m \u001b[0;34m+\u001b[0m \u001b[0mstr\u001b[0m\u001b[0;34m(\u001b[0m\u001b[0mwr\u001b[0m\u001b[0;34m)\u001b[0m \u001b[0;34m+\u001b[0m \u001b[0;34m'/key'\u001b[0m \u001b[0;34m+\u001b[0m\u001b[0mstr\u001b[0m\u001b[0;34m(\u001b[0m\u001b[0mk\u001b[0m\u001b[0;34m)\u001b[0m \u001b[0;34m+\u001b[0m\u001b[0;34m'/uniform/'\u001b[0m\u001b[0;34m\u001b[0m\u001b[0;34m\u001b[0m\u001b[0m\n\u001b[1;32m     16\u001b[0m \u001b[0;34m\u001b[0m\u001b[0m\n\u001b[0;32m---> 17\u001b[0;31m                     \u001b[0muniform_generator\u001b[0m\u001b[0;34m(\u001b[0m\u001b[0mpath\u001b[0m\u001b[0;34m,\u001b[0m\u001b[0;36m10\u001b[0m\u001b[0;34m,\u001b[0m\u001b[0mc\u001b[0m\u001b[0;34m,\u001b[0m\u001b[0mt\u001b[0m\u001b[0;34m,\u001b[0m\u001b[0;36m1\u001b[0m\u001b[0;34m,\u001b[0m\u001b[0mk\u001b[0m\u001b[0;34m,\u001b[0m\u001b[0mwr\u001b[0m\u001b[0;34m)\u001b[0m\u001b[0;34m\u001b[0m\u001b[0;34m\u001b[0m\u001b[0m\n\u001b[0m\u001b[1;32m     18\u001b[0m                     \u001b[0;32mfor\u001b[0m \u001b[0mi\u001b[0m \u001b[0;32min\u001b[0m \u001b[0mrange\u001b[0m\u001b[0;34m(\u001b[0m\u001b[0;36m0\u001b[0m\u001b[0;34m,\u001b[0m\u001b[0;36m100\u001b[0m\u001b[0;34m)\u001b[0m\u001b[0;34m:\u001b[0m\u001b[0;34m\u001b[0m\u001b[0;34m\u001b[0m\u001b[0m\n\u001b[1;32m     19\u001b[0m                         \u001b[0mgenerate_file\u001b[0m \u001b[0;34m=\u001b[0m \u001b[0mpath\u001b[0m \u001b[0;34m+\u001b[0m \u001b[0;34m'hist_'\u001b[0m\u001b[0;34m+\u001b[0m\u001b[0mstr\u001b[0m\u001b[0;34m(\u001b[0m\u001b[0mi\u001b[0m\u001b[0;34m)\u001b[0m\u001b[0;34m+\u001b[0m\u001b[0;34m'.txt'\u001b[0m\u001b[0;34m\u001b[0m\u001b[0;34m\u001b[0m\u001b[0m\n",
      "\u001b[0;31mNameError\u001b[0m: name 'uniform_generator' is not defined"
     ]
    }
   ],
   "source": [
    "'''\n",
    "    for uniform history.\n",
    "'''\n",
    "if __name__ == '__main__':\n",
    "    # client_num = [5,10,50,100]\n",
    "    client_num = [20]\n",
    "    transaction_num = [1000]\n",
    "    wr_profile = [55]\n",
    "    key_num = [100]\n",
    "    \n",
    "    for c in client_num:\n",
    "        for t in transaction_num:\n",
    "            for wr in wr_profile:\n",
    "                for k in key_num:\n",
    "                    path = '../DATA2/client' + str(c) + '/transaction' + str(t) + '/wr' + str(wr) + '/key' +str(k) +'/uniform/'\n",
    "                    \n",
    "                    uniform_generator(path,10,c,t,1,k,wr)\n",
    "                    for i in range(0,100):\n",
    "                        generate_file = path + 'hist_'+str(i)+'.txt'\n",
    "                        result_file = path + 'result_'+str(i)+'.txt'\n",
    "                        list_of_ops = generate_clients(generate_file,c,t,1)\n",
    "                        create_variables(1,k)\n",
    "                        result_single_history = exec_history(list_of_ops)\n",
    "                        write_result(result_single_history,result_file)"
   ]
  },
  {
   "cell_type": "code",
   "execution_count": 21,
   "metadata": {
    "ExecuteTime": {
     "end_time": "2021-02-15T13:04:09.578082Z",
     "start_time": "2021-02-15T12:52:46.594661Z"
    },
    "scrolled": true
   },
   "outputs": [
    {
     "name": "stdout",
     "output_type": "stream",
     "text": [
      "../DATATEST/Antidote/client20/transaction100/wr55/key100/zipf/hist_0.txt succeeded.\n",
      "../DATATEST/Antidote/client20/transaction100/wr55/key100/zipf/hist_1.txt succeeded.\n",
      "../DATATEST/Antidote/client20/transaction100/wr55/key100/zipf/hist_2.txt succeeded.\n",
      "../DATATEST/Antidote/client20/transaction100/wr55/key100/zipf/hist_3.txt succeeded.\n",
      "../DATATEST/Antidote/client20/transaction100/wr55/key100/zipf/hist_4.txt succeeded.\n",
      "../DATATEST/Antidote/client20/transaction100/wr55/key100/zipf/hist_5.txt succeeded.\n",
      "../DATATEST/Antidote/client20/transaction100/wr55/key100/zipf/hist_6.txt succeeded.\n",
      "../DATATEST/Antidote/client20/transaction100/wr55/key100/zipf/hist_7.txt succeeded.\n",
      "../DATATEST/Antidote/client20/transaction100/wr55/key100/zipf/hist_8.txt succeeded.\n",
      "../DATATEST/Antidote/client20/transaction100/wr55/key100/zipf/hist_9.txt succeeded.\n",
      "../DATATEST/Antidote/client20/transaction100/wr55/key100/zipf/hist_10.txt succeeded.\n",
      "../DATATEST/Antidote/client20/transaction100/wr55/key100/zipf/hist_11.txt succeeded.\n",
      "../DATATEST/Antidote/client20/transaction100/wr55/key100/zipf/hist_12.txt succeeded.\n",
      "../DATATEST/Antidote/client20/transaction100/wr55/key100/zipf/hist_13.txt succeeded.\n",
      "../DATATEST/Antidote/client20/transaction100/wr55/key100/zipf/hist_14.txt succeeded.\n",
      "../DATATEST/Antidote/client20/transaction100/wr55/key100/zipf/hist_15.txt succeeded.\n",
      "../DATATEST/Antidote/client20/transaction100/wr55/key100/zipf/hist_16.txt succeeded.\n",
      "../DATATEST/Antidote/client20/transaction100/wr55/key100/zipf/hist_17.txt succeeded.\n",
      "../DATATEST/Antidote/client20/transaction100/wr55/key100/zipf/hist_18.txt succeeded.\n",
      "../DATATEST/Antidote/client20/transaction100/wr55/key100/zipf/hist_19.txt succeeded.\n",
      "../DATATEST/Antidote/client20/transaction100/wr55/key100/zipf/hist_20.txt succeeded.\n",
      "../DATATEST/Antidote/client20/transaction100/wr55/key100/zipf/hist_21.txt succeeded.\n",
      "../DATATEST/Antidote/client20/transaction100/wr55/key100/zipf/hist_22.txt succeeded.\n",
      "../DATATEST/Antidote/client20/transaction100/wr55/key100/zipf/hist_23.txt succeeded.\n",
      "../DATATEST/Antidote/client20/transaction100/wr55/key100/zipf/hist_24.txt succeeded.\n",
      "../DATATEST/Antidote/client20/transaction100/wr55/key100/zipf/hist_25.txt succeeded.\n",
      "../DATATEST/Antidote/client20/transaction100/wr55/key100/zipf/hist_26.txt succeeded.\n",
      "../DATATEST/Antidote/client20/transaction100/wr55/key100/zipf/hist_27.txt succeeded.\n",
      "../DATATEST/Antidote/client20/transaction100/wr55/key100/zipf/hist_28.txt succeeded.\n",
      "../DATATEST/Antidote/client20/transaction100/wr55/key100/zipf/hist_29.txt succeeded.\n",
      "../DATATEST/Antidote/client20/transaction100/wr55/key100/zipf/hist_30.txt succeeded.\n",
      "../DATATEST/Antidote/client20/transaction100/wr55/key100/zipf/hist_31.txt succeeded.\n",
      "../DATATEST/Antidote/client20/transaction100/wr55/key100/zipf/hist_32.txt succeeded.\n",
      "../DATATEST/Antidote/client20/transaction100/wr55/key100/zipf/hist_33.txt succeeded.\n",
      "../DATATEST/Antidote/client20/transaction100/wr55/key100/zipf/hist_34.txt succeeded.\n",
      "../DATATEST/Antidote/client20/transaction100/wr55/key100/zipf/hist_35.txt succeeded.\n",
      "../DATATEST/Antidote/client20/transaction100/wr55/key100/zipf/hist_36.txt succeeded.\n",
      "../DATATEST/Antidote/client20/transaction100/wr55/key100/zipf/hist_37.txt succeeded.\n",
      "../DATATEST/Antidote/client20/transaction100/wr55/key100/zipf/hist_38.txt succeeded.\n",
      "../DATATEST/Antidote/client20/transaction100/wr55/key100/zipf/hist_39.txt succeeded.\n",
      "../DATATEST/Antidote/client20/transaction100/wr55/key100/zipf/hist_40.txt succeeded.\n",
      "../DATATEST/Antidote/client20/transaction100/wr55/key100/zipf/hist_41.txt succeeded.\n",
      "../DATATEST/Antidote/client20/transaction100/wr55/key100/zipf/hist_42.txt succeeded.\n",
      "../DATATEST/Antidote/client20/transaction100/wr55/key100/zipf/hist_43.txt succeeded.\n",
      "../DATATEST/Antidote/client20/transaction100/wr55/key100/zipf/hist_44.txt succeeded.\n",
      "../DATATEST/Antidote/client20/transaction100/wr55/key100/zipf/hist_45.txt succeeded.\n",
      "../DATATEST/Antidote/client20/transaction100/wr55/key100/zipf/hist_46.txt succeeded.\n",
      "../DATATEST/Antidote/client20/transaction100/wr55/key100/zipf/hist_47.txt succeeded.\n",
      "../DATATEST/Antidote/client20/transaction100/wr55/key100/zipf/hist_48.txt succeeded.\n",
      "../DATATEST/Antidote/client20/transaction100/wr55/key100/zipf/hist_49.txt succeeded.\n",
      "../DATATEST/Antidote/client20/transaction100/wr55/key100/zipf/hist_50.txt succeeded.\n",
      "../DATATEST/Antidote/client20/transaction100/wr55/key100/zipf/hist_51.txt succeeded.\n",
      "../DATATEST/Antidote/client20/transaction100/wr55/key100/zipf/hist_52.txt succeeded.\n",
      "../DATATEST/Antidote/client20/transaction100/wr55/key100/zipf/hist_53.txt succeeded.\n",
      "../DATATEST/Antidote/client20/transaction100/wr55/key100/zipf/hist_54.txt succeeded.\n",
      "../DATATEST/Antidote/client20/transaction100/wr55/key100/zipf/hist_55.txt succeeded.\n",
      "../DATATEST/Antidote/client20/transaction100/wr55/key100/zipf/hist_56.txt succeeded.\n",
      "../DATATEST/Antidote/client20/transaction100/wr55/key100/zipf/hist_57.txt succeeded.\n",
      "../DATATEST/Antidote/client20/transaction100/wr55/key100/zipf/hist_58.txt succeeded.\n",
      "../DATATEST/Antidote/client20/transaction100/wr55/key100/zipf/hist_59.txt succeeded.\n",
      "../DATATEST/Antidote/client20/transaction100/wr55/key100/zipf/hist_60.txt succeeded.\n",
      "../DATATEST/Antidote/client20/transaction100/wr55/key100/zipf/hist_61.txt succeeded.\n",
      "../DATATEST/Antidote/client20/transaction100/wr55/key100/zipf/hist_62.txt succeeded.\n",
      "../DATATEST/Antidote/client20/transaction100/wr55/key100/zipf/hist_63.txt succeeded.\n",
      "../DATATEST/Antidote/client20/transaction100/wr55/key100/zipf/hist_64.txt succeeded.\n",
      "../DATATEST/Antidote/client20/transaction100/wr55/key100/zipf/hist_65.txt succeeded.\n",
      "../DATATEST/Antidote/client20/transaction100/wr55/key100/zipf/hist_66.txt succeeded.\n",
      "../DATATEST/Antidote/client20/transaction100/wr55/key100/zipf/hist_67.txt succeeded.\n",
      "../DATATEST/Antidote/client20/transaction100/wr55/key100/zipf/hist_68.txt succeeded.\n",
      "../DATATEST/Antidote/client20/transaction100/wr55/key100/zipf/hist_69.txt succeeded.\n",
      "../DATATEST/Antidote/client20/transaction100/wr55/key100/zipf/hist_70.txt succeeded.\n",
      "../DATATEST/Antidote/client20/transaction100/wr55/key100/zipf/hist_71.txt succeeded.\n",
      "../DATATEST/Antidote/client20/transaction100/wr55/key100/zipf/hist_72.txt succeeded.\n",
      "../DATATEST/Antidote/client20/transaction100/wr55/key100/zipf/hist_73.txt succeeded.\n",
      "../DATATEST/Antidote/client20/transaction100/wr55/key100/zipf/hist_74.txt succeeded.\n",
      "../DATATEST/Antidote/client20/transaction100/wr55/key100/zipf/hist_75.txt succeeded.\n",
      "../DATATEST/Antidote/client20/transaction100/wr55/key100/zipf/hist_76.txt succeeded.\n",
      "../DATATEST/Antidote/client20/transaction100/wr55/key100/zipf/hist_77.txt succeeded.\n",
      "../DATATEST/Antidote/client20/transaction100/wr55/key100/zipf/hist_78.txt succeeded.\n",
      "../DATATEST/Antidote/client20/transaction100/wr55/key100/zipf/hist_79.txt succeeded.\n",
      "../DATATEST/Antidote/client20/transaction100/wr55/key100/zipf/hist_80.txt succeeded.\n",
      "../DATATEST/Antidote/client20/transaction100/wr55/key100/zipf/hist_81.txt succeeded.\n",
      "../DATATEST/Antidote/client20/transaction100/wr55/key100/zipf/hist_82.txt succeeded.\n",
      "../DATATEST/Antidote/client20/transaction100/wr55/key100/zipf/hist_83.txt succeeded.\n",
      "../DATATEST/Antidote/client20/transaction100/wr55/key100/zipf/hist_84.txt succeeded.\n",
      "../DATATEST/Antidote/client20/transaction100/wr55/key100/zipf/hist_85.txt succeeded.\n",
      "../DATATEST/Antidote/client20/transaction100/wr55/key100/zipf/hist_86.txt succeeded.\n",
      "../DATATEST/Antidote/client20/transaction100/wr55/key100/zipf/hist_87.txt succeeded.\n",
      "../DATATEST/Antidote/client20/transaction100/wr55/key100/zipf/hist_88.txt succeeded.\n",
      "../DATATEST/Antidote/client20/transaction100/wr55/key100/zipf/hist_89.txt succeeded.\n",
      "../DATATEST/Antidote/client20/transaction100/wr55/key100/zipf/hist_90.txt succeeded.\n",
      "../DATATEST/Antidote/client20/transaction100/wr55/key100/zipf/hist_91.txt succeeded.\n",
      "../DATATEST/Antidote/client20/transaction100/wr55/key100/zipf/hist_92.txt succeeded.\n",
      "../DATATEST/Antidote/client20/transaction100/wr55/key100/zipf/hist_93.txt succeeded.\n",
      "../DATATEST/Antidote/client20/transaction100/wr55/key100/zipf/hist_94.txt succeeded.\n",
      "../DATATEST/Antidote/client20/transaction100/wr55/key100/zipf/hist_95.txt succeeded.\n",
      "../DATATEST/Antidote/client20/transaction100/wr55/key100/zipf/hist_96.txt succeeded.\n",
      "../DATATEST/Antidote/client20/transaction100/wr55/key100/zipf/hist_97.txt succeeded.\n",
      "../DATATEST/Antidote/client20/transaction100/wr55/key100/zipf/hist_98.txt succeeded.\n",
      "../DATATEST/Antidote/client20/transaction100/wr55/key100/zipf/hist_99.txt succeeded.\n",
      "文件名为:  ../DATATEST/Antidote/client20/transaction100/wr55/key100/zipf/hist_0.txt\n"
     ]
    },
    {
     "name": "stdout",
     "output_type": "stream",
     "text": [
      "文件名为:  ../DATATEST/Antidote/client20/transaction100/wr55/key100/zipf/hist_1.txt\n",
      "文件名为:  ../DATATEST/Antidote/client20/transaction100/wr55/key100/zipf/hist_2.txt\n",
      "文件名为:  ../DATATEST/Antidote/client20/transaction100/wr55/key100/zipf/hist_3.txt\n",
      "文件名为:  ../DATATEST/Antidote/client20/transaction100/wr55/key100/zipf/hist_4.txt\n",
      "文件名为:  ../DATATEST/Antidote/client20/transaction100/wr55/key100/zipf/hist_5.txt\n",
      "文件名为:  ../DATATEST/Antidote/client20/transaction100/wr55/key100/zipf/hist_6.txt\n",
      "文件名为:  ../DATATEST/Antidote/client20/transaction100/wr55/key100/zipf/hist_7.txt\n",
      "文件名为:  ../DATATEST/Antidote/client20/transaction100/wr55/key100/zipf/hist_8.txt\n",
      "文件名为:  ../DATATEST/Antidote/client20/transaction100/wr55/key100/zipf/hist_9.txt\n",
      "文件名为:  ../DATATEST/Antidote/client20/transaction100/wr55/key100/zipf/hist_10.txt\n",
      "文件名为:  ../DATATEST/Antidote/client20/transaction100/wr55/key100/zipf/hist_11.txt\n",
      "文件名为:  ../DATATEST/Antidote/client20/transaction100/wr55/key100/zipf/hist_12.txt\n",
      "文件名为:  ../DATATEST/Antidote/client20/transaction100/wr55/key100/zipf/hist_13.txt\n",
      "文件名为:  ../DATATEST/Antidote/client20/transaction100/wr55/key100/zipf/hist_14.txt\n",
      "文件名为:  ../DATATEST/Antidote/client20/transaction100/wr55/key100/zipf/hist_15.txt\n",
      "文件名为:  ../DATATEST/Antidote/client20/transaction100/wr55/key100/zipf/hist_16.txt\n",
      "文件名为:  ../DATATEST/Antidote/client20/transaction100/wr55/key100/zipf/hist_17.txt\n",
      "文件名为:  ../DATATEST/Antidote/client20/transaction100/wr55/key100/zipf/hist_18.txt\n",
      "文件名为:  ../DATATEST/Antidote/client20/transaction100/wr55/key100/zipf/hist_19.txt\n",
      "文件名为:  ../DATATEST/Antidote/client20/transaction100/wr55/key100/zipf/hist_20.txt\n",
      "文件名为:  ../DATATEST/Antidote/client20/transaction100/wr55/key100/zipf/hist_21.txt\n",
      "文件名为:  ../DATATEST/Antidote/client20/transaction100/wr55/key100/zipf/hist_22.txt\n",
      "文件名为:  ../DATATEST/Antidote/client20/transaction100/wr55/key100/zipf/hist_23.txt\n",
      "文件名为:  ../DATATEST/Antidote/client20/transaction100/wr55/key100/zipf/hist_24.txt\n",
      "文件名为:  ../DATATEST/Antidote/client20/transaction100/wr55/key100/zipf/hist_25.txt\n",
      "文件名为:  ../DATATEST/Antidote/client20/transaction100/wr55/key100/zipf/hist_26.txt\n",
      "文件名为:  ../DATATEST/Antidote/client20/transaction100/wr55/key100/zipf/hist_27.txt\n",
      "文件名为:  ../DATATEST/Antidote/client20/transaction100/wr55/key100/zipf/hist_28.txt\n",
      "文件名为:  ../DATATEST/Antidote/client20/transaction100/wr55/key100/zipf/hist_29.txt\n",
      "文件名为:  ../DATATEST/Antidote/client20/transaction100/wr55/key100/zipf/hist_30.txt\n",
      "文件名为:  ../DATATEST/Antidote/client20/transaction100/wr55/key100/zipf/hist_31.txt\n",
      "文件名为:  ../DATATEST/Antidote/client20/transaction100/wr55/key100/zipf/hist_32.txt\n",
      "文件名为:  ../DATATEST/Antidote/client20/transaction100/wr55/key100/zipf/hist_33.txt\n",
      "文件名为:  ../DATATEST/Antidote/client20/transaction100/wr55/key100/zipf/hist_34.txt\n",
      "文件名为:  ../DATATEST/Antidote/client20/transaction100/wr55/key100/zipf/hist_35.txt\n",
      "文件名为:  ../DATATEST/Antidote/client20/transaction100/wr55/key100/zipf/hist_36.txt\n",
      "文件名为:  ../DATATEST/Antidote/client20/transaction100/wr55/key100/zipf/hist_37.txt\n",
      "文件名为:  ../DATATEST/Antidote/client20/transaction100/wr55/key100/zipf/hist_38.txt\n",
      "文件名为:  ../DATATEST/Antidote/client20/transaction100/wr55/key100/zipf/hist_39.txt\n",
      "文件名为:  ../DATATEST/Antidote/client20/transaction100/wr55/key100/zipf/hist_40.txt\n",
      "文件名为:  ../DATATEST/Antidote/client20/transaction100/wr55/key100/zipf/hist_41.txt\n",
      "文件名为:  ../DATATEST/Antidote/client20/transaction100/wr55/key100/zipf/hist_42.txt\n",
      "文件名为:  ../DATATEST/Antidote/client20/transaction100/wr55/key100/zipf/hist_43.txt\n",
      "文件名为:  ../DATATEST/Antidote/client20/transaction100/wr55/key100/zipf/hist_44.txt\n",
      "文件名为:  ../DATATEST/Antidote/client20/transaction100/wr55/key100/zipf/hist_45.txt\n",
      "文件名为:  ../DATATEST/Antidote/client20/transaction100/wr55/key100/zipf/hist_46.txt\n",
      "文件名为:  ../DATATEST/Antidote/client20/transaction100/wr55/key100/zipf/hist_47.txt\n",
      "文件名为:  ../DATATEST/Antidote/client20/transaction100/wr55/key100/zipf/hist_48.txt\n",
      "文件名为:  ../DATATEST/Antidote/client20/transaction100/wr55/key100/zipf/hist_49.txt\n",
      "文件名为:  ../DATATEST/Antidote/client20/transaction100/wr55/key100/zipf/hist_50.txt\n",
      "文件名为:  ../DATATEST/Antidote/client20/transaction100/wr55/key100/zipf/hist_51.txt\n",
      "文件名为:  ../DATATEST/Antidote/client20/transaction100/wr55/key100/zipf/hist_52.txt\n",
      "文件名为:  ../DATATEST/Antidote/client20/transaction100/wr55/key100/zipf/hist_53.txt\n",
      "文件名为:  ../DATATEST/Antidote/client20/transaction100/wr55/key100/zipf/hist_54.txt\n",
      "文件名为:  ../DATATEST/Antidote/client20/transaction100/wr55/key100/zipf/hist_55.txt\n",
      "文件名为:  ../DATATEST/Antidote/client20/transaction100/wr55/key100/zipf/hist_56.txt\n",
      "文件名为:  ../DATATEST/Antidote/client20/transaction100/wr55/key100/zipf/hist_57.txt\n",
      "文件名为:  ../DATATEST/Antidote/client20/transaction100/wr55/key100/zipf/hist_58.txt\n",
      "文件名为:  ../DATATEST/Antidote/client20/transaction100/wr55/key100/zipf/hist_59.txt\n",
      "文件名为:  ../DATATEST/Antidote/client20/transaction100/wr55/key100/zipf/hist_60.txt\n",
      "文件名为:  ../DATATEST/Antidote/client20/transaction100/wr55/key100/zipf/hist_61.txt\n",
      "文件名为:  ../DATATEST/Antidote/client20/transaction100/wr55/key100/zipf/hist_62.txt\n",
      "文件名为:  ../DATATEST/Antidote/client20/transaction100/wr55/key100/zipf/hist_63.txt\n",
      "文件名为:  ../DATATEST/Antidote/client20/transaction100/wr55/key100/zipf/hist_64.txt\n",
      "文件名为:  ../DATATEST/Antidote/client20/transaction100/wr55/key100/zipf/hist_65.txt\n",
      "文件名为:  ../DATATEST/Antidote/client20/transaction100/wr55/key100/zipf/hist_66.txt\n",
      "文件名为:  ../DATATEST/Antidote/client20/transaction100/wr55/key100/zipf/hist_67.txt\n",
      "文件名为:  ../DATATEST/Antidote/client20/transaction100/wr55/key100/zipf/hist_68.txt\n",
      "文件名为:  ../DATATEST/Antidote/client20/transaction100/wr55/key100/zipf/hist_69.txt\n",
      "文件名为:  ../DATATEST/Antidote/client20/transaction100/wr55/key100/zipf/hist_70.txt\n",
      "文件名为:  ../DATATEST/Antidote/client20/transaction100/wr55/key100/zipf/hist_71.txt\n",
      "文件名为:  ../DATATEST/Antidote/client20/transaction100/wr55/key100/zipf/hist_72.txt\n",
      "文件名为:  ../DATATEST/Antidote/client20/transaction100/wr55/key100/zipf/hist_73.txt\n",
      "文件名为:  ../DATATEST/Antidote/client20/transaction100/wr55/key100/zipf/hist_74.txt\n",
      "文件名为:  ../DATATEST/Antidote/client20/transaction100/wr55/key100/zipf/hist_75.txt\n",
      "文件名为:  ../DATATEST/Antidote/client20/transaction100/wr55/key100/zipf/hist_76.txt\n",
      "文件名为:  ../DATATEST/Antidote/client20/transaction100/wr55/key100/zipf/hist_77.txt\n",
      "文件名为:  ../DATATEST/Antidote/client20/transaction100/wr55/key100/zipf/hist_78.txt\n",
      "文件名为:  ../DATATEST/Antidote/client20/transaction100/wr55/key100/zipf/hist_79.txt\n",
      "文件名为:  ../DATATEST/Antidote/client20/transaction100/wr55/key100/zipf/hist_80.txt\n",
      "文件名为:  ../DATATEST/Antidote/client20/transaction100/wr55/key100/zipf/hist_81.txt\n",
      "文件名为:  ../DATATEST/Antidote/client20/transaction100/wr55/key100/zipf/hist_82.txt\n",
      "文件名为:  ../DATATEST/Antidote/client20/transaction100/wr55/key100/zipf/hist_83.txt\n",
      "文件名为:  ../DATATEST/Antidote/client20/transaction100/wr55/key100/zipf/hist_84.txt\n",
      "文件名为:  ../DATATEST/Antidote/client20/transaction100/wr55/key100/zipf/hist_85.txt\n",
      "文件名为:  ../DATATEST/Antidote/client20/transaction100/wr55/key100/zipf/hist_86.txt\n",
      "文件名为:  ../DATATEST/Antidote/client20/transaction100/wr55/key100/zipf/hist_87.txt\n",
      "文件名为:  ../DATATEST/Antidote/client20/transaction100/wr55/key100/zipf/hist_88.txt\n",
      "文件名为:  ../DATATEST/Antidote/client20/transaction100/wr55/key100/zipf/hist_89.txt\n",
      "文件名为:  ../DATATEST/Antidote/client20/transaction100/wr55/key100/zipf/hist_90.txt\n",
      "文件名为:  ../DATATEST/Antidote/client20/transaction100/wr55/key100/zipf/hist_91.txt\n",
      "文件名为:  ../DATATEST/Antidote/client20/transaction100/wr55/key100/zipf/hist_92.txt\n",
      "文件名为:  ../DATATEST/Antidote/client20/transaction100/wr55/key100/zipf/hist_93.txt\n",
      "文件名为:  ../DATATEST/Antidote/client20/transaction100/wr55/key100/zipf/hist_94.txt\n",
      "文件名为:  ../DATATEST/Antidote/client20/transaction100/wr55/key100/zipf/hist_95.txt\n",
      "文件名为:  ../DATATEST/Antidote/client20/transaction100/wr55/key100/zipf/hist_96.txt\n",
      "文件名为:  ../DATATEST/Antidote/client20/transaction100/wr55/key100/zipf/hist_97.txt\n",
      "文件名为:  ../DATATEST/Antidote/client20/transaction100/wr55/key100/zipf/hist_98.txt\n",
      "文件名为:  ../DATATEST/Antidote/client20/transaction100/wr55/key100/zipf/hist_99.txt\n"
     ]
    }
   ],
   "source": [
    "'''\n",
    "    for zipf history.\n",
    "'''\n",
    "if __name__ == '__main__':\n",
    "    # client_num = [5,10,50,100]\n",
    "    client_num = [20]\n",
    "    transaction_num = [100]\n",
    "    wr_profile = [55]\n",
    "    key_num = [100]\n",
    "    \n",
    "    for c in client_num:\n",
    "        for t in transaction_num:\n",
    "            for wr in wr_profile:\n",
    "                for k in key_num:\n",
    "                    path = '../DATATEST/Antidote/client' + str(c) + '/transaction' + str(t) + '/wr' + str(wr) + '/key' +str(k) +'/zipf/'\n",
    "                    \n",
    "                    zipf_generator(path,100,c,t,1,k,wr)\n",
    "                    for i in range(0,100):\n",
    "                        generate_file = path + 'hist_'+str(i)+'.txt'\n",
    "                        result_file = path + 'result_'+str(i)+'.txt'\n",
    "                        list_of_ops = generate_clients(generate_file,c,t,1)\n",
    "                        create_variables(1,k)\n",
    "                        result_single_history = exec_history(list_of_ops)\n",
    "                        write_result(result_single_history,result_file)"
   ]
  },
  {
   "cell_type": "code",
   "execution_count": null,
   "metadata": {},
   "outputs": [],
   "source": []
  },
  {
   "cell_type": "code",
   "execution_count": 64,
   "metadata": {
    "ExecuteTime": {
     "end_time": "2020-12-14T07:22:15.200555Z",
     "start_time": "2020-12-14T07:22:14.742228Z"
    }
   },
   "outputs": [
    {
     "name": "stdout",
     "output_type": "stream",
     "text": [
      "../src/histroy_file/hist_0.txt succeeded.\n",
      "../src/histroy_file/hist_1.txt succeeded.\n",
      "../src/histroy_file/hist_2.txt succeeded.\n",
      "文件名为:  ../src/histroy_file/hist_0.txt\n"
     ]
    }
   ],
   "source": [
    "'''\n",
    "    example for main__\n",
    "'''\n",
    "generator(\"../src/histroy_file/\",3,5,5,8,3)\n",
    "list_of_ops = generate_clients('../src/histroy_file/hist_0.txt',5,5,8)\n",
    "# print(list_of_ops)\n",
    "create_variables(5,3)\n",
    "result_single_history = exec_history(list_of_ops)\n",
    "# print(result_single_history)\n",
    "write_result(result_single_history,'../src/result_file/hist_0.txt')"
   ]
  },
  {
   "cell_type": "code",
   "execution_count": 37,
   "metadata": {
    "ExecuteTime": {
     "end_time": "2020-12-23T04:21:16.687036Z",
     "start_time": "2020-12-23T04:21:16.442659Z"
    },
    "collapsed": true
   },
   "outputs": [
    {
     "name": "stdout",
     "output_type": "stream",
     "text": [
      "[47 34 27 21 24 11  9 13 12  9  3 12  5  7  6  7  4  4  7  7  2  4 10  5\n",
      "  5  0  1  0  2  4  4  5  0  4  5  2  3  4  2  2  1  1  0  1  1  1  5  1\n",
      "  1  3  4  0  1  2  1  2  1  1  1  2  0  1  3  1  1  3  2  0  1  1  1  1\n",
      "  2  0  4  2  1  1  0  0  0  1  4  1  3  1  1  0  1  0  4  1  0  0  2  0\n",
      "  1  1  0  0]\n",
      "[  0.5   1.5   2.5   3.5   4.5   5.5   6.5   7.5   8.5   9.5  10.5  11.5\n",
      "  12.5  13.5  14.5  15.5  16.5  17.5  18.5  19.5  20.5  21.5  22.5  23.5\n",
      "  24.5  25.5  26.5  27.5  28.5  29.5  30.5  31.5  32.5  33.5  34.5  35.5\n",
      "  36.5  37.5  38.5  39.5  40.5  41.5  42.5  43.5  44.5  45.5  46.5  47.5\n",
      "  48.5  49.5  50.5  51.5  52.5  53.5  54.5  55.5  56.5  57.5  58.5  59.5\n",
      "  60.5  61.5  62.5  63.5  64.5  65.5  66.5  67.5  68.5  69.5  70.5  71.5\n",
      "  72.5  73.5  74.5  75.5  76.5  77.5  78.5  79.5  80.5  81.5  82.5  83.5\n",
      "  84.5  85.5  86.5  87.5  88.5  89.5  90.5  91.5  92.5  93.5  94.5  95.5\n",
      "  96.5  97.5  98.5  99.5 100.5]\n"
     ]
    },
    {
     "data": {
      "image/png": "[encoded data removed]",
      "text/plain": [
       "<Figure size 432x288 with 1 Axes>"
      ]
     },
     "metadata": {
      "needs_background": "light"
     },
     "output_type": "display_data"
    }
   ],
   "source": [
    "q = Zipf(1, min, max, 501)\n",
    "variable_list = [int(x)-1 for x in q]\n",
    "h, bins = np.histogram(variable_list, bins = int(max-min+1),range=(min-0.5,max+0.5))\n",
    "print(h)\n",
    "print(bins)\n",
    "\n",
    "plt.hist(q, bins = bins)\n",
    "plt.title(\"Zipf\")\n",
    "plt.show()"
   ]
  },
  {
   "cell_type": "code",
   "execution_count": null,
   "metadata": {},
   "outputs": [],
   "source": []
  }
 ],
 "metadata": {
  "kernelspec": {
   "display_name": "Python 3",
   "language": "python",
   "name": "python3"
  },
  "language_info": {
   "codemirror_mode": {
    "name": "ipython",
    "version": 3
   },
   "file_extension": ".py",
   "mimetype": "text/x-python",
   "name": "python",
   "nbconvert_exporter": "python",
   "pygments_lexer": "ipython3",
   "version": "3.7.4"
  },
  "latex_envs": {
   "LaTeX_envs_menu_present": true,
   "autoclose": false,
   "autocomplete": true,
   "bibliofile": "biblio.bib",
   "cite_by": "apalike",
   "current_citInitial": 1,
   "eqLabelWithNumbers": true,
   "eqNumInitial": 1,
   "hotkeys": {
    "equation": "Ctrl-E",
    "itemize": "Ctrl-I"
   },
   "labels_anchors": false,
   "latex_user_defs": false,
   "report_style_numbering": false,
   "user_envs_cfg": false
  },
  "toc": {
   "base_numbering": 1,
   "nav_menu": {},
   "number_sections": true,
   "sideBar": true,
   "skip_h1_title": false,
   "title_cell": "Table of Contents",
   "title_sidebar": "Contents",
   "toc_cell": false,
   "toc_position": {},
   "toc_section_display": true,
   "toc_window_display": false
  },
  "varInspector": {
   "cols": {
    "lenName": 16,
    "lenType": 16,
    "lenVar": 40
   },
   "kernels_config": {
    "python": {
     "delete_cmd_postfix": "",
     "delete_cmd_prefix": "del ",
     "library": "var_list.py",
     "varRefreshCmd": "print(var_dic_list())"
    },
    "r": {
     "delete_cmd_postfix": ") ",
     "delete_cmd_prefix": "rm(",
     "library": "var_list.r",
     "varRefreshCmd": "cat(var_dic_list()) "
    }
   },
   "types_to_exclude": [
    "module",
    "function",
    "builtin_function_or_method",
    "instance",
    "_Feature"
   ],
   "window_display": false
  }
 },
 "nbformat": 4,
 "nbformat_minor": 2
}
