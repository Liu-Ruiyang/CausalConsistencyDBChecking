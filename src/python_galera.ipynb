{
 "cells": [
  {
   "cell_type": "code",
   "execution_count": 3,
   "metadata": {
    "ExecuteTime": {
     "end_time": "2021-02-23T01:50:30.585781Z",
     "start_time": "2021-02-23T01:50:29.562946Z"
    }
   },
   "outputs": [],
   "source": [
    "import linecache\n",
    "import os\n",
    "import time\n",
    "import random\n",
    "import matplotlib.pyplot as plt\n",
    "import pandas as pd\n",
    "import sys\n",
    "import threading\n",
    "import time\n",
    "import resource\n",
    "resource.setrlimit(resource.RLIMIT_NOFILE, (65536, 65536))"
   ]
  },
  {
   "cell_type": "code",
   "execution_count": 4,
   "metadata": {
    "ExecuteTime": {
     "end_time": "2021-02-23T01:50:31.389342Z",
     "start_time": "2021-02-23T01:50:31.057042Z"
    }
   },
   "outputs": [],
   "source": [
    "import mariadb\n",
    "import sys\n",
    "import linecache\n",
    "import os\n",
    "import time\n",
    "import random\n",
    "import matplotlib.pyplot as plt\n",
    "import pandas as pd\n",
    "import sys\n",
    "import threading\n",
    "import time\n",
    "import docker"
   ]
  },
  {
   "cell_type": "code",
   "execution_count": 5,
   "metadata": {
    "ExecuteTime": {
     "end_time": "2021-02-23T01:50:32.074792Z",
     "start_time": "2021-02-23T01:50:32.068735Z"
    }
   },
   "outputs": [],
   "source": [
    "# 每个单独的op\n",
    "class Operation:\n",
    "    op_type = True  #true is write\n",
    "    variable = 0\n",
    "    value = 0\n",
    "    \n",
    "    def __init__(self, op_type, variable, value):\n",
    "        self.op_type = op_type\n",
    "        self.variable = variable\n",
    "        self.value = value\n",
    "\n",
    "    def Read(self,variable):\n",
    "        self.op_type = False\n",
    "        self.variable = variable\n",
    "        self.value = 0\n",
    "    def Write(self,variable,value):\n",
    "        self.op_type = True\n",
    "        self.variable = variable\n",
    "        self.value = value\n",
    "    def Display_info(self):\n",
    "        if(op_type==True):\n",
    "            print(\"write,\" + str(variable) + \",\" + str(value))\n",
    "        elif(op_type==False):\n",
    "            print(\"read,\" + str(variable) + \",\" + str(value))\n",
    "        else:\n",
    "            print(\"Error in Operation op_type!\")"
   ]
  },
  {
   "cell_type": "code",
   "execution_count": 6,
   "metadata": {
    "ExecuteTime": {
     "end_time": "2021-02-23T01:50:33.183221Z",
     "start_time": "2021-02-23T01:50:33.177515Z"
    },
    "code_folding": [
     3
    ]
   },
   "outputs": [],
   "source": [
    "import numpy as np\n",
    "from matplotlib import pyplot as plt\n",
    "\n",
    "def Zipf(a: np.float64, min: np.uint64, max: np.uint64, size=None):\n",
    "    \"\"\"\n",
    "    Generate Zipf-like random variables,\n",
    "    but in inclusive [min...max] interval\n",
    "    \"\"\"\n",
    "    if min == 0:\n",
    "        raise ZeroDivisionError(\"\")\n",
    "\n",
    "    v = np.arange(min, max+1) # values to sample\n",
    "    p = 1.0 / np.power(v, a)  # probabilities\n",
    "    p /= np.sum(p)            # normalized\n",
    "\n",
    "    return np.random.choice(v, size=size, replace=True, p=p)\n"
   ]
  },
  {
   "cell_type": "code",
   "execution_count": 7,
   "metadata": {
    "ExecuteTime": {
     "end_time": "2021-02-23T01:50:34.234037Z",
     "start_time": "2021-02-23T01:50:34.230499Z"
    },
    "code_folding": [
     0
    ]
   },
   "outputs": [],
   "source": [
    "def set_initval(counter,variable_num):\n",
    "    seq = []\n",
    "    for i in range (0,variable_num):\n",
    "        seq.append(i)\n",
    "        i = i + 1\n",
    "    counter = counter.fromkeys(seq, 0)\n",
    "    return counter"
   ]
  },
  {
   "cell_type": "code",
   "execution_count": 8,
   "metadata": {
    "ExecuteTime": {
     "end_time": "2021-02-23T01:50:34.864742Z",
     "start_time": "2021-02-23T01:50:34.860670Z"
    },
    "code_folding": []
   },
   "outputs": [],
   "source": [
    "# 用法：randon_pick([true,false],[0.5,0.5])\n",
    "def random_pick(some_list, probabilities): \n",
    "    x = random.uniform(0,1) \n",
    "    cumulative_probability = 0.0 \n",
    "    for item, item_probability in zip(some_list, probabilities): \n",
    "        cumulative_probability += item_probability \n",
    "        if x < cumulative_probability:\n",
    "               break \n",
    "    return item "
   ]
  },
  {
   "cell_type": "code",
   "execution_count": 9,
   "metadata": {
    "ExecuteTime": {
     "end_time": "2021-02-23T01:50:35.584172Z",
     "start_time": "2021-02-23T01:50:35.570514Z"
    },
    "code_folding": [
     0
    ]
   },
   "outputs": [],
   "source": [
    "def uniform_generator(output_path, his, client, trans, ops, var, wr):\n",
    "    \n",
    "    #define params \n",
    "    his_file = his \n",
    "    client_num = client\n",
    "    trans_num = trans\n",
    "    op_num = ops\n",
    "    variable_num = var \n",
    "    all_hist = [] \n",
    "    for h in range (0,his_file): \n",
    "        doc =open(output_path+\"hist_\"+str(h)+\".txt\",'w')\n",
    "        new_hist = [] \n",
    "        counter = {} \n",
    "        counter = set_initval(counter,variable_num) \n",
    "        for c in range (0,client_num):\n",
    "            new_client = []\n",
    "            for t in range (0,trans_num):\n",
    "                new_transaction = []\n",
    "                for op in range (0,op_num):\n",
    "                    #按照比例选and是读或写\n",
    "                    if wr == 55:\n",
    "                        op_type = random_pick([True,False],[0.5,0.5])\n",
    "                    elif wr == 19:\n",
    "                        op_type = random_pick([True,False],[0.1,0.9])\n",
    "                    elif wr ==91:\n",
    "                        op_type = random_pick([True,False],[0.9,0.1])\n",
    "                    else:\n",
    "                        print('Wrong input wr!')\n",
    "\n",
    "                    if(op_type==False): #READ\n",
    "                    #   随机选择variable编号\n",
    "                        variable = random.randint(0,variable_num-1)\n",
    "                        new_op = Operation(False,variable,0)\n",
    "                    elif(op_type==True):\n",
    "                        variable = random.randint(0,variable_num-1)\n",
    "                        value = counter[variable] +1\n",
    "                        counter[variable] = value #更新counter内的值\n",
    "                        new_op = Operation(True,variable,value)\n",
    "                    else:\n",
    "                        print(\"Error in op_type!\")\n",
    "                    #new_op.Display_info()\n",
    "                    \n",
    "                    if(new_op.op_type==True):\n",
    "                        doc.write(\"write,\" + str(new_op.variable) + \",\" + str(new_op.value)+\"\\n\")\n",
    "                    elif(new_op.op_type==False):\n",
    "                        doc.write(\"read,\" + str(new_op.variable) + \",\" + str(new_op.value)+\"\\n\")\n",
    "                    else:\n",
    "                        print(\"Error in file Writing!\")\n",
    "        doc.close()\n",
    "        print(output_path+\"hist_\"+str(h)+\".txt\"+\" succeeded.\")\n"
   ]
  },
  {
   "cell_type": "code",
   "execution_count": 10,
   "metadata": {
    "ExecuteTime": {
     "end_time": "2021-02-23T01:50:36.086979Z",
     "start_time": "2021-02-23T01:50:36.072617Z"
    },
    "code_folding": [
     0
    ]
   },
   "outputs": [],
   "source": [
    "def zipf_generator(output_path, his, client, trans, ops, var, wr):\n",
    "    \n",
    "    #define params \n",
    "    his_file = his \n",
    "    client_num = client\n",
    "    trans_num = trans\n",
    "    op_num = ops\n",
    "    variable_num = var \n",
    "    all_hist = [] \n",
    "    for h in range (0,his_file): \n",
    "        doc =open(output_path+\"hist_\"+str(h)+\".txt\",'w')\n",
    "        new_hist = [] \n",
    "        counter = {} \n",
    "        counter = set_initval(counter,variable_num)\n",
    "        \n",
    "        min = np.uint64(1)\n",
    "        max = np.uint64(var)\n",
    "\n",
    "        q = Zipf(1, min, max, client_num*trans_num*op_num)\n",
    "        variable_list = [int(x)-1 for x in q]\n",
    "        counter_for_variable = 0\n",
    "        \n",
    "        for c in range (0,client_num):\n",
    "            new_client = []\n",
    "            for t in range (0,trans_num):\n",
    "                new_transaction = []\n",
    "                for op in range (0,op_num):\n",
    "                    #按照比例选and是读或写\n",
    "                    if wr == 55:\n",
    "                        op_type = random_pick([True,False],[0.5,0.5])\n",
    "                    elif wr == 19:\n",
    "                        op_type = random_pick([True,False],[0.1,0.9])\n",
    "                    elif wr ==91:\n",
    "                        op_type = random_pick([True,False],[0.9,0.1])\n",
    "                    else:\n",
    "                        print('Wrong input wr!')\n",
    "\n",
    "                    if(op_type==False): #READ\n",
    "                    #   使用zipf分布选择variable编号\n",
    "                        variable = variable_list[counter_for_variable]\n",
    "                        counter_for_variable = counter_for_variable+1\n",
    "                        new_op = Operation(False,variable,0)\n",
    "                    elif(op_type==True):\n",
    "                        variable = variable_list[counter_for_variable]\n",
    "                        counter_for_variable = counter_for_variable+1\n",
    "                        value = counter[variable] +1\n",
    "                        counter[variable] = value #更新counter内的值\n",
    "                        new_op = Operation(True,variable,value)\n",
    "                    else:\n",
    "                        print(\"Error in op_type!\")\n",
    "                    #new_op.Display_info()\n",
    "                    \n",
    "                    if(new_op.op_type==True):\n",
    "                        doc.write(\"write,\" + str(new_op.variable) + \",\" + str(new_op.value)+\"\\n\")\n",
    "                    elif(new_op.op_type==False):\n",
    "                        doc.write(\"read,\" + str(new_op.variable) + \",\" + str(new_op.value)+\"\\n\")\n",
    "                    else:\n",
    "                        print(\"Error in file Writing!\")\n",
    "        doc.close()\n",
    "        print(output_path+\"hist_\"+str(h)+\".txt\"+\" succeeded.\")\n"
   ]
  },
  {
   "cell_type": "code",
   "execution_count": 11,
   "metadata": {
    "ExecuteTime": {
     "end_time": "2021-02-23T01:50:36.667954Z",
     "start_time": "2021-02-23T01:50:36.662293Z"
    },
    "code_folding": [
     0
    ]
   },
   "outputs": [],
   "source": [
    "def write_result(result_single_history,file):\n",
    "    '''\n",
    "        result_single_history is a three dimensional list\n",
    "        file is the output path\n",
    "    '''\n",
    "    f=open(file,\"w\")\n",
    "    for n_clients in range(0,len(result_single_history)):\n",
    "        for n_trans in range(0,len(result_single_history[0])):\n",
    "            for n_ops in range(0,len(result_single_history[0][0])):\n",
    "                f.write(result_single_history[n_clients][n_trans][n_ops]+'\\n')\n",
    "    f.close()\n",
    "    print(file+ ' is completed.')"
   ]
  },
  {
   "cell_type": "code",
   "execution_count": 12,
   "metadata": {
    "ExecuteTime": {
     "end_time": "2021-02-23T01:50:37.240626Z",
     "start_time": "2021-02-23T01:50:37.235856Z"
    },
    "code_folding": [
     0
    ]
   },
   "outputs": [],
   "source": [
    "class MyThread(threading.Thread):\n",
    "    def __init__(self, func, args, name=''):\n",
    "        threading.Thread.__init__(self)\n",
    "        self.name = name\n",
    "        self.func = func\n",
    "        self.args = args\n",
    "        self.result = self.func(*self.args)\n",
    " \n",
    "    def get_result(self):\n",
    "        try:\n",
    "            return self.result\n",
    "        except Exception:\n",
    "            return None"
   ]
  },
  {
   "cell_type": "code",
   "execution_count": 37,
   "metadata": {
    "ExecuteTime": {
     "end_time": "2021-02-08T01:57:06.694647Z",
     "start_time": "2021-02-08T01:57:04.874147Z"
    }
   },
   "outputs": [
    {
     "name": "stdout",
     "output_type": "stream",
     "text": [
      "b'ERROR 2002 (HY000): Can\\'t connect to local MySQL server through socket \\'/var/lib/mysql/mysql.sock\\' (2 \"No such file or directory\")\\n'\n"
     ]
    }
   ],
   "source": [
    "import docker\n",
    "client = docker.from_env()\n",
    "container = client.containers.get('galera_galera_3')\n",
    "container.start()\n",
    "\n",
    "cmd = 'mysql -uroot --execute=\"CREATE DATABASE IF NOT EXISTS galera;\" '\n",
    "container.exec_run(cmd)\n",
    "cmd1 = 'mysql -uroot --execute=\"DROP TABLE IF EXISTS galera.variables;\" '\n",
    "cmd2 = 'mysql -uroot --execute=\"CREATE TABLE IF NOT EXISTS galera.variables (var BIGINT(64) UNSIGNED NOT NULL PRIMARY KEY, val BIGINT(64) UNSIGNED NOT NULL);\"'\n",
    "cmd3 = 'mysql -uroot --execute=\"INSERT INTO galera.variables (var, val) values (1, 1);\"'\n",
    "cmd4 = 'mysql -uroot --execute=\"SELECT * FROM galera.variables;\" '\n",
    "# cmd1 ='mysql -uroot --execute=\"show databases;\" '\n",
    "# res1 = container.exec_run(cmd1)\n",
    "# container.exec_run(cmd1)\n",
    "container.exec_run(cmd2)\n",
    "container.exec_run(cmd3)\n",
    "res =  container.exec_run(cmd4)\n",
    "print(res.output)\n",
    "\n",
    "\n",
    "\n"
   ]
  },
  {
   "cell_type": "code",
   "execution_count": null,
   "metadata": {},
   "outputs": [],
   "source": [
    "'''\n",
    "    思路：\n",
    "    确定参数之后，先Creat Container,database，table，创建所有variable，且值都为0。\n",
    "    参考dbcop\n",
    "    相对应，exec_history用来multithread,每一个client是一个thread。\n",
    "    具体做的内容是exec_session，exec_session内使用mysql pool？\n",
    "'''"
   ]
  },
  {
   "cell_type": "code",
   "execution_count": 13,
   "metadata": {
    "ExecuteTime": {
     "end_time": "2021-02-23T01:51:38.057256Z",
     "start_time": "2021-02-23T01:51:38.052685Z"
    }
   },
   "outputs": [],
   "source": [
    "'''\n",
    "    Use docker compose-up to create containers depending on how much clients;\n",
    "'''\n",
    "def create_containers(n_nodes):\n",
    "    os.system('cd ../../dbcop/docker/galera')\n",
    "    os.system('docker-compose up -d --scale galera0=1 --scale galera=' + str(n_nodes-1))\n",
    "    # start all containers\n",
    "    for i in range (0,n_nodes):\n",
    "        client = docker.from_env()\n",
    "        if(i==0):\n",
    "            container = client.containers.get('galera0')\n",
    "        else:\n",
    "            container = client.containers.get('galera_galera_' + str(i))\n",
    "        container.start()"
   ]
  },
  {
   "cell_type": "code",
   "execution_count": 14,
   "metadata": {
    "ExecuteTime": {
     "end_time": "2021-02-23T01:52:08.795765Z",
     "start_time": "2021-02-23T01:52:08.791697Z"
    }
   },
   "outputs": [],
   "source": [
    "def drop_tables(n_nodes):\n",
    "    for i in range (0,n_nodes):\n",
    "        client = docker.from_env()\n",
    "        if(i==0):\n",
    "            container = client.containers.get('galera0')\n",
    "        else:\n",
    "            container = client.containers.get('galera_galera_' + str(i))\n",
    "        cmd = 'mysql -uroot --execute=\"DROP TABLE IF EXISTS galera.variables;\" '\n",
    "        container.exec_run(cmd)"
   ]
  },
  {
   "cell_type": "code",
   "execution_count": 15,
   "metadata": {
    "ExecuteTime": {
     "end_time": "2021-02-23T01:52:11.633619Z",
     "start_time": "2021-02-23T01:52:11.629219Z"
    }
   },
   "outputs": [],
   "source": [
    "def stop_containers(n_clients):\n",
    "    for i in range (0,n_clients):\n",
    "        client = docker.from_env()\n",
    "        if(i==0):\n",
    "            container = client.containers.get('galera0')\n",
    "        else:\n",
    "            container = client.containers.get('galera_galera_' + str(i))\n",
    "        container.stop()"
   ]
  },
  {
   "cell_type": "code",
   "execution_count": 16,
   "metadata": {
    "ExecuteTime": {
     "end_time": "2021-02-23T01:52:13.341378Z",
     "start_time": "2021-02-23T01:52:13.335826Z"
    }
   },
   "outputs": [],
   "source": [
    "def create_variables(n_trans,n_variable):\n",
    "    client = docker.from_env()\n",
    "    container = client.containers.get('galera0')\n",
    "    \n",
    "    cmd1 = 'mysql -uroot --execute=\"CREATE DATABASE IF NOT EXISTS galera;\" '\n",
    "    cmd2 = 'mysql -uroot --execute=\"DROP TABLE IF EXISTS galera.variables;\" '\n",
    "    cmd3 = 'mysql -uroot --execute=\"CREATE TABLE IF NOT EXISTS galera.variables (var BIGINT(64) UNSIGNED NOT NULL PRIMARY KEY, val BIGINT(64) UNSIGNED NOT NULL);\"'\n",
    "    container.exec_run(cmd1)\n",
    "    container.exec_run(cmd2)\n",
    "    container.exec_run(cmd3)\n",
    "\n",
    "    for j in range(0,n_trans):\n",
    "        for i in range(0,n_variable):\n",
    "            cmd4 = 'mysql -uroot --execute=\"INSERT INTO galera.variables (var, val) values ({0}, 0);\"'.format(str(i))\n",
    "            container.exec_run(cmd4)\n",
    "    \n",
    "\n",
    "            "
   ]
  },
  {
   "cell_type": "code",
   "execution_count": 17,
   "metadata": {
    "ExecuteTime": {
     "end_time": "2021-02-23T01:52:16.845094Z",
     "start_time": "2021-02-23T01:52:16.838972Z"
    },
    "code_folding": []
   },
   "outputs": [],
   "source": [
    "def generate_clients(hist_file,n_clients,n_trans,n_ops):\n",
    "    #input a single history file, contains n transactions.\n",
    "    #Output a list of transaction,each transaction is a list of operation\n",
    "    fo = open(hist_file, \"r\")\n",
    "    print (\"文件名为: \", fo.name)\n",
    "    list_line = []\n",
    "    for line in fo.readlines():                          #依次读取每行  \n",
    "        line = line.strip()                             #去掉每行头尾空白,line is a list, contains all ops in hist file\n",
    "        list_line.append(line)\n",
    "    # 关闭文件\n",
    "    fo.close()\n",
    "    # print(list_line)\n",
    "#     need a three dimension list: clients,trans,ops\n",
    "    start = 0\n",
    "    end = n_ops\n",
    "    list_clients = []\n",
    "    \n",
    "    \n",
    "    for i in range(0,n_clients):\n",
    "        temp_trans = []\n",
    "        for j in range(0,n_trans):\n",
    "            temp_ops = list_line[start:end]\n",
    "            temp_trans.append(temp_ops)\n",
    "            start = start+n_ops\n",
    "            end = end+n_ops\n",
    "        list_clients.append(temp_trans)\n",
    "        \n",
    "    return list_clients"
   ]
  },
  {
   "cell_type": "code",
   "execution_count": 18,
   "metadata": {
    "ExecuteTime": {
     "end_time": "2021-02-23T01:52:18.116888Z",
     "start_time": "2021-02-23T01:52:18.107312Z"
    },
    "code_folding": []
   },
   "outputs": [],
   "source": [
    "'''\n",
    "    execute a history file in multiple threads(clients).\n",
    "    history data is stored in a three dimensional list, list_of_ops.\n",
    "    \n",
    "'''\n",
    "def exec_history(list_of_ops):\n",
    "    n_clients = len(list_of_ops)\n",
    "    n_trans = len(list_of_ops[0])\n",
    "    n_ops = len(list_of_ops[0][0])\n",
    "    thread_clients = []\n",
    "#     each thread calls this: exec_session(list_of_ops[i_thread],i_result_ops), i_result_ops is a two dimensional list\n",
    "    result_clients = []\n",
    "\n",
    "    for i in range(0,n_clients):\n",
    "        client = docker.from_env()\n",
    "        new_client = MyThread(exec_session,(list_of_ops[i],client, i,), exec_session.__name__)\n",
    "        thread_clients.append(new_client)\n",
    "    for i in range(0,n_clients):\n",
    "        thread_clients[i].start()\n",
    "    for i in range(0,n_clients):\n",
    "        thread_clients[i].join()\n",
    "        \n",
    "    for i in range(0,n_clients):\n",
    "        temp_result = thread_clients[i].get_result()\n",
    "#         print(temp_result)\n",
    "        result_clients.append(temp_result)\n",
    "    \n",
    "    return result_clients"
   ]
  },
  {
   "cell_type": "code",
   "execution_count": 22,
   "metadata": {
    "ExecuteTime": {
     "end_time": "2021-02-23T01:56:15.647351Z",
     "start_time": "2021-02-23T01:56:15.632463Z"
    }
   },
   "outputs": [],
   "source": [
    "'''\n",
    "    list_of_ops is a 2 dimensional list, contains trans and ops.\n",
    "    each client is a thread.\n",
    "'''\n",
    "def exec_session(list_of_ops,client, client_id):\n",
    "    result_ops = []\n",
    "    n_trans = len(list_of_ops)\n",
    "    op_num = 0\n",
    "    if(client_id==0):\n",
    "        container = client.containers.get('galera0')\n",
    "    else:\n",
    "        node_num = random_pick([1,2,3],[0.4,0.3,0.3])\n",
    "        container = client.containers.get('galera_galera_' + str(node_num))\n",
    "    \n",
    "    for i in range(0,n_trans):\n",
    "        \n",
    "        temp_tx_op = []\n",
    "        for j in range(0,len(list_of_ops[i])):\n",
    "#             print('now dealing with : '+list_of_ops[i][j])\n",
    "            op = str.split(list_of_ops[i][j],',',3)\n",
    "            # create a new variable\n",
    "            key = int(op[1])\n",
    "\n",
    "            \n",
    "            if(op[0]=='write'):\n",
    "                # if op is a write, then set value to this key\n",
    "                val = int(op[2])\n",
    "                cmd = 'mysql -uroot --execute=\"UPDATE galera.variables SET val={0} WHERE var={1}\"'.format(str(val),str(key))\n",
    "                container.exec_run(cmd)\n",
    "                \n",
    "                cmd2 = 'mysql -uroot --execute=\"SELECT val FROM galera.variables WHERE var={};\" '.format(str(key))\n",
    "                res = container.exec_run(cmd2)\n",
    "\n",
    "                # record the op, dealing with res\n",
    "                record_key = key\n",
    "#                 print('write key: '+str(record_key))\n",
    "\n",
    "                record_val = res.output.decode(\"utf-8\").replace(\"\\n\", \"\")[3:]\n",
    "#                 print('wirte key with value: '+str(record_val))\n",
    "                single_op = 'w(' +  str(record_key) +',' + str(record_val) +','+ str(client_id) +','+str(i) +','+ str(op_num)+')'\n",
    "                temp_tx_op.append(single_op)\n",
    "                op_num = op_num +1\n",
    "            elif(op[0]=='read'):\n",
    "                cmd2 = 'mysql -uroot --execute=\"SELECT val FROM galera.variables WHERE var={};\" '.format(str(key))\n",
    "                res = container.exec_run(cmd2)\n",
    "                # print( res[0].value())\n",
    "                record_key = key\n",
    "#                 print('read key: '+str(record_key))\n",
    "                record_val = res.output.decode(\"utf-8\").replace(\"\\n\", \"\")[3:]\n",
    "#                 print('read key with value: '+str(record_val))\n",
    "                \n",
    "                single_op = 'r(' +  str(record_key) +',' + str(record_val) +','+ str(client_id) +','+str(i) +','+ str(op_num)+')'\n",
    "                temp_tx_op.append(single_op)\n",
    "                op_num = op_num +1\n",
    "            else:\n",
    "                print(\"unknown wrong type op.\")\n",
    "        result_ops.append(temp_tx_op)\n",
    "    \n",
    "    return result_ops"
   ]
  },
  {
   "cell_type": "code",
   "execution_count": 23,
   "metadata": {
    "ExecuteTime": {
     "end_time": "2021-02-23T10:00:23.396489Z",
     "start_time": "2021-02-23T01:56:19.434950Z"
    }
   },
   "outputs": [
    {
     "name": "stdout",
     "output_type": "stream",
     "text": [
      "文件名为:  ../DATATEST/galera/client20/transaction100/wr55/key100/zipf/hist_1.txt\n",
      "../DATATEST/galera/client20/transaction100/wr55/key100/zipf/result_1.txt is completed.\n",
      "文件名为:  ../DATATEST/galera/client20/transaction100/wr55/key100/zipf/hist_2.txt\n",
      "../DATATEST/galera/client20/transaction100/wr55/key100/zipf/result_2.txt is completed.\n",
      "文件名为:  ../DATATEST/galera/client20/transaction100/wr55/key100/zipf/hist_3.txt\n",
      "../DATATEST/galera/client20/transaction100/wr55/key100/zipf/result_3.txt is completed.\n",
      "文件名为:  ../DATATEST/galera/client20/transaction100/wr55/key100/zipf/hist_4.txt\n",
      "../DATATEST/galera/client20/transaction100/wr55/key100/zipf/result_4.txt is completed.\n",
      "文件名为:  ../DATATEST/galera/client20/transaction100/wr55/key100/zipf/hist_5.txt\n",
      "../DATATEST/galera/client20/transaction100/wr55/key100/zipf/result_5.txt is completed.\n",
      "文件名为:  ../DATATEST/galera/client20/transaction100/wr55/key100/zipf/hist_6.txt\n",
      "../DATATEST/galera/client20/transaction100/wr55/key100/zipf/result_6.txt is completed.\n",
      "文件名为:  ../DATATEST/galera/client20/transaction100/wr55/key100/zipf/hist_7.txt\n",
      "../DATATEST/galera/client20/transaction100/wr55/key100/zipf/result_7.txt is completed.\n",
      "文件名为:  ../DATATEST/galera/client20/transaction100/wr55/key100/zipf/hist_8.txt\n",
      "../DATATEST/galera/client20/transaction100/wr55/key100/zipf/result_8.txt is completed.\n",
      "文件名为:  ../DATATEST/galera/client20/transaction100/wr55/key100/zipf/hist_9.txt\n",
      "../DATATEST/galera/client20/transaction100/wr55/key100/zipf/result_9.txt is completed.\n",
      "文件名为:  ../DATATEST/galera/client20/transaction100/wr55/key100/zipf/hist_10.txt\n",
      "../DATATEST/galera/client20/transaction100/wr55/key100/zipf/result_10.txt is completed.\n",
      "文件名为:  ../DATATEST/galera/client20/transaction100/wr55/key100/zipf/hist_11.txt\n",
      "../DATATEST/galera/client20/transaction100/wr55/key100/zipf/result_11.txt is completed.\n",
      "文件名为:  ../DATATEST/galera/client20/transaction100/wr55/key100/zipf/hist_12.txt\n",
      "../DATATEST/galera/client20/transaction100/wr55/key100/zipf/result_12.txt is completed.\n",
      "文件名为:  ../DATATEST/galera/client20/transaction100/wr55/key100/zipf/hist_13.txt\n",
      "../DATATEST/galera/client20/transaction100/wr55/key100/zipf/result_13.txt is completed.\n",
      "文件名为:  ../DATATEST/galera/client20/transaction100/wr55/key100/zipf/hist_14.txt\n",
      "../DATATEST/galera/client20/transaction100/wr55/key100/zipf/result_14.txt is completed.\n",
      "文件名为:  ../DATATEST/galera/client20/transaction100/wr55/key100/zipf/hist_15.txt\n",
      "../DATATEST/galera/client20/transaction100/wr55/key100/zipf/result_15.txt is completed.\n",
      "文件名为:  ../DATATEST/galera/client20/transaction100/wr55/key100/zipf/hist_16.txt\n",
      "../DATATEST/galera/client20/transaction100/wr55/key100/zipf/result_16.txt is completed.\n",
      "文件名为:  ../DATATEST/galera/client20/transaction100/wr55/key100/zipf/hist_17.txt\n",
      "../DATATEST/galera/client20/transaction100/wr55/key100/zipf/result_17.txt is completed.\n",
      "文件名为:  ../DATATEST/galera/client20/transaction100/wr55/key100/zipf/hist_18.txt\n",
      "../DATATEST/galera/client20/transaction100/wr55/key100/zipf/result_18.txt is completed.\n",
      "文件名为:  ../DATATEST/galera/client20/transaction100/wr55/key100/zipf/hist_19.txt\n",
      "../DATATEST/galera/client20/transaction100/wr55/key100/zipf/result_19.txt is completed.\n",
      "文件名为:  ../DATATEST/galera/client20/transaction100/wr55/key100/zipf/hist_20.txt\n",
      "../DATATEST/galera/client20/transaction100/wr55/key100/zipf/result_20.txt is completed.\n",
      "文件名为:  ../DATATEST/galera/client20/transaction100/wr55/key100/zipf/hist_21.txt\n",
      "../DATATEST/galera/client20/transaction100/wr55/key100/zipf/result_21.txt is completed.\n",
      "文件名为:  ../DATATEST/galera/client20/transaction100/wr55/key100/zipf/hist_22.txt\n",
      "../DATATEST/galera/client20/transaction100/wr55/key100/zipf/result_22.txt is completed.\n",
      "文件名为:  ../DATATEST/galera/client20/transaction100/wr55/key100/zipf/hist_23.txt\n",
      "../DATATEST/galera/client20/transaction100/wr55/key100/zipf/result_23.txt is completed.\n",
      "文件名为:  ../DATATEST/galera/client20/transaction100/wr55/key100/zipf/hist_24.txt\n",
      "../DATATEST/galera/client20/transaction100/wr55/key100/zipf/result_24.txt is completed.\n",
      "文件名为:  ../DATATEST/galera/client20/transaction100/wr55/key100/zipf/hist_25.txt\n",
      "../DATATEST/galera/client20/transaction100/wr55/key100/zipf/result_25.txt is completed.\n",
      "文件名为:  ../DATATEST/galera/client20/transaction100/wr55/key100/zipf/hist_26.txt\n",
      "../DATATEST/galera/client20/transaction100/wr55/key100/zipf/result_26.txt is completed.\n",
      "文件名为:  ../DATATEST/galera/client20/transaction100/wr55/key100/zipf/hist_27.txt\n",
      "../DATATEST/galera/client20/transaction100/wr55/key100/zipf/result_27.txt is completed.\n",
      "文件名为:  ../DATATEST/galera/client20/transaction100/wr55/key100/zipf/hist_28.txt\n",
      "../DATATEST/galera/client20/transaction100/wr55/key100/zipf/result_28.txt is completed.\n",
      "文件名为:  ../DATATEST/galera/client20/transaction100/wr55/key100/zipf/hist_29.txt\n",
      "../DATATEST/galera/client20/transaction100/wr55/key100/zipf/result_29.txt is completed.\n",
      "文件名为:  ../DATATEST/galera/client20/transaction100/wr55/key100/zipf/hist_30.txt\n",
      "../DATATEST/galera/client20/transaction100/wr55/key100/zipf/result_30.txt is completed.\n",
      "文件名为:  ../DATATEST/galera/client20/transaction100/wr55/key100/zipf/hist_31.txt\n",
      "../DATATEST/galera/client20/transaction100/wr55/key100/zipf/result_31.txt is completed.\n",
      "文件名为:  ../DATATEST/galera/client20/transaction100/wr55/key100/zipf/hist_32.txt\n",
      "../DATATEST/galera/client20/transaction100/wr55/key100/zipf/result_32.txt is completed.\n",
      "文件名为:  ../DATATEST/galera/client20/transaction100/wr55/key100/zipf/hist_33.txt\n",
      "../DATATEST/galera/client20/transaction100/wr55/key100/zipf/result_33.txt is completed.\n",
      "文件名为:  ../DATATEST/galera/client20/transaction100/wr55/key100/zipf/hist_34.txt\n",
      "../DATATEST/galera/client20/transaction100/wr55/key100/zipf/result_34.txt is completed.\n",
      "文件名为:  ../DATATEST/galera/client20/transaction100/wr55/key100/zipf/hist_35.txt\n",
      "../DATATEST/galera/client20/transaction100/wr55/key100/zipf/result_35.txt is completed.\n",
      "文件名为:  ../DATATEST/galera/client20/transaction100/wr55/key100/zipf/hist_36.txt\n",
      "../DATATEST/galera/client20/transaction100/wr55/key100/zipf/result_36.txt is completed.\n",
      "文件名为:  ../DATATEST/galera/client20/transaction100/wr55/key100/zipf/hist_37.txt\n",
      "../DATATEST/galera/client20/transaction100/wr55/key100/zipf/result_37.txt is completed.\n",
      "文件名为:  ../DATATEST/galera/client20/transaction100/wr55/key100/zipf/hist_38.txt\n",
      "../DATATEST/galera/client20/transaction100/wr55/key100/zipf/result_38.txt is completed.\n",
      "文件名为:  ../DATATEST/galera/client20/transaction100/wr55/key100/zipf/hist_39.txt\n",
      "../DATATEST/galera/client20/transaction100/wr55/key100/zipf/result_39.txt is completed.\n",
      "文件名为:  ../DATATEST/galera/client20/transaction100/wr55/key100/zipf/hist_40.txt\n",
      "../DATATEST/galera/client20/transaction100/wr55/key100/zipf/result_40.txt is completed.\n",
      "文件名为:  ../DATATEST/galera/client20/transaction100/wr55/key100/zipf/hist_41.txt\n",
      "../DATATEST/galera/client20/transaction100/wr55/key100/zipf/result_41.txt is completed.\n",
      "文件名为:  ../DATATEST/galera/client20/transaction100/wr55/key100/zipf/hist_42.txt\n",
      "../DATATEST/galera/client20/transaction100/wr55/key100/zipf/result_42.txt is completed.\n",
      "文件名为:  ../DATATEST/galera/client20/transaction100/wr55/key100/zipf/hist_43.txt\n",
      "../DATATEST/galera/client20/transaction100/wr55/key100/zipf/result_43.txt is completed.\n",
      "文件名为:  ../DATATEST/galera/client20/transaction100/wr55/key100/zipf/hist_44.txt\n",
      "../DATATEST/galera/client20/transaction100/wr55/key100/zipf/result_44.txt is completed.\n",
      "文件名为:  ../DATATEST/galera/client20/transaction100/wr55/key100/zipf/hist_45.txt\n",
      "../DATATEST/galera/client20/transaction100/wr55/key100/zipf/result_45.txt is completed.\n",
      "文件名为:  ../DATATEST/galera/client20/transaction100/wr55/key100/zipf/hist_46.txt\n",
      "../DATATEST/galera/client20/transaction100/wr55/key100/zipf/result_46.txt is completed.\n",
      "文件名为:  ../DATATEST/galera/client20/transaction100/wr55/key100/zipf/hist_47.txt\n",
      "../DATATEST/galera/client20/transaction100/wr55/key100/zipf/result_47.txt is completed.\n",
      "文件名为:  ../DATATEST/galera/client20/transaction100/wr55/key100/zipf/hist_48.txt\n",
      "../DATATEST/galera/client20/transaction100/wr55/key100/zipf/result_48.txt is completed.\n",
      "文件名为:  ../DATATEST/galera/client20/transaction100/wr55/key100/zipf/hist_49.txt\n",
      "../DATATEST/galera/client20/transaction100/wr55/key100/zipf/result_49.txt is completed.\n",
      "文件名为:  ../DATATEST/galera/client20/transaction100/wr55/key100/zipf/hist_50.txt\n"
     ]
    },
    {
     "name": "stdout",
     "output_type": "stream",
     "text": [
      "../DATATEST/galera/client20/transaction100/wr55/key100/zipf/result_50.txt is completed.\n",
      "文件名为:  ../DATATEST/galera/client20/transaction100/wr55/key100/zipf/hist_51.txt\n",
      "../DATATEST/galera/client20/transaction100/wr55/key100/zipf/result_51.txt is completed.\n",
      "文件名为:  ../DATATEST/galera/client20/transaction100/wr55/key100/zipf/hist_52.txt\n",
      "../DATATEST/galera/client20/transaction100/wr55/key100/zipf/result_52.txt is completed.\n",
      "文件名为:  ../DATATEST/galera/client20/transaction100/wr55/key100/zipf/hist_53.txt\n",
      "../DATATEST/galera/client20/transaction100/wr55/key100/zipf/result_53.txt is completed.\n",
      "文件名为:  ../DATATEST/galera/client20/transaction100/wr55/key100/zipf/hist_54.txt\n",
      "../DATATEST/galera/client20/transaction100/wr55/key100/zipf/result_54.txt is completed.\n",
      "文件名为:  ../DATATEST/galera/client20/transaction100/wr55/key100/zipf/hist_55.txt\n",
      "../DATATEST/galera/client20/transaction100/wr55/key100/zipf/result_55.txt is completed.\n",
      "文件名为:  ../DATATEST/galera/client20/transaction100/wr55/key100/zipf/hist_56.txt\n",
      "../DATATEST/galera/client20/transaction100/wr55/key100/zipf/result_56.txt is completed.\n",
      "文件名为:  ../DATATEST/galera/client20/transaction100/wr55/key100/zipf/hist_57.txt\n",
      "../DATATEST/galera/client20/transaction100/wr55/key100/zipf/result_57.txt is completed.\n",
      "文件名为:  ../DATATEST/galera/client20/transaction100/wr55/key100/zipf/hist_58.txt\n",
      "../DATATEST/galera/client20/transaction100/wr55/key100/zipf/result_58.txt is completed.\n",
      "文件名为:  ../DATATEST/galera/client20/transaction100/wr55/key100/zipf/hist_59.txt\n",
      "../DATATEST/galera/client20/transaction100/wr55/key100/zipf/result_59.txt is completed.\n",
      "文件名为:  ../DATATEST/galera/client20/transaction100/wr55/key100/zipf/hist_60.txt\n",
      "../DATATEST/galera/client20/transaction100/wr55/key100/zipf/result_60.txt is completed.\n",
      "文件名为:  ../DATATEST/galera/client20/transaction100/wr55/key100/zipf/hist_61.txt\n",
      "../DATATEST/galera/client20/transaction100/wr55/key100/zipf/result_61.txt is completed.\n",
      "文件名为:  ../DATATEST/galera/client20/transaction100/wr55/key100/zipf/hist_62.txt\n",
      "../DATATEST/galera/client20/transaction100/wr55/key100/zipf/result_62.txt is completed.\n",
      "文件名为:  ../DATATEST/galera/client20/transaction100/wr55/key100/zipf/hist_63.txt\n",
      "../DATATEST/galera/client20/transaction100/wr55/key100/zipf/result_63.txt is completed.\n",
      "文件名为:  ../DATATEST/galera/client20/transaction100/wr55/key100/zipf/hist_64.txt\n",
      "../DATATEST/galera/client20/transaction100/wr55/key100/zipf/result_64.txt is completed.\n",
      "文件名为:  ../DATATEST/galera/client20/transaction100/wr55/key100/zipf/hist_65.txt\n",
      "../DATATEST/galera/client20/transaction100/wr55/key100/zipf/result_65.txt is completed.\n",
      "文件名为:  ../DATATEST/galera/client20/transaction100/wr55/key100/zipf/hist_66.txt\n",
      "../DATATEST/galera/client20/transaction100/wr55/key100/zipf/result_66.txt is completed.\n",
      "文件名为:  ../DATATEST/galera/client20/transaction100/wr55/key100/zipf/hist_67.txt\n",
      "../DATATEST/galera/client20/transaction100/wr55/key100/zipf/result_67.txt is completed.\n",
      "文件名为:  ../DATATEST/galera/client20/transaction100/wr55/key100/zipf/hist_68.txt\n",
      "../DATATEST/galera/client20/transaction100/wr55/key100/zipf/result_68.txt is completed.\n",
      "文件名为:  ../DATATEST/galera/client20/transaction100/wr55/key100/zipf/hist_69.txt\n",
      "../DATATEST/galera/client20/transaction100/wr55/key100/zipf/result_69.txt is completed.\n",
      "文件名为:  ../DATATEST/galera/client20/transaction100/wr55/key100/zipf/hist_70.txt\n",
      "../DATATEST/galera/client20/transaction100/wr55/key100/zipf/result_70.txt is completed.\n",
      "文件名为:  ../DATATEST/galera/client20/transaction100/wr55/key100/zipf/hist_71.txt\n",
      "../DATATEST/galera/client20/transaction100/wr55/key100/zipf/result_71.txt is completed.\n",
      "文件名为:  ../DATATEST/galera/client20/transaction100/wr55/key100/zipf/hist_72.txt\n",
      "../DATATEST/galera/client20/transaction100/wr55/key100/zipf/result_72.txt is completed.\n",
      "文件名为:  ../DATATEST/galera/client20/transaction100/wr55/key100/zipf/hist_73.txt\n",
      "../DATATEST/galera/client20/transaction100/wr55/key100/zipf/result_73.txt is completed.\n",
      "文件名为:  ../DATATEST/galera/client20/transaction100/wr55/key100/zipf/hist_74.txt\n",
      "../DATATEST/galera/client20/transaction100/wr55/key100/zipf/result_74.txt is completed.\n",
      "文件名为:  ../DATATEST/galera/client20/transaction100/wr55/key100/zipf/hist_75.txt\n",
      "../DATATEST/galera/client20/transaction100/wr55/key100/zipf/result_75.txt is completed.\n",
      "文件名为:  ../DATATEST/galera/client20/transaction100/wr55/key100/zipf/hist_76.txt\n",
      "../DATATEST/galera/client20/transaction100/wr55/key100/zipf/result_76.txt is completed.\n",
      "文件名为:  ../DATATEST/galera/client20/transaction100/wr55/key100/zipf/hist_77.txt\n",
      "../DATATEST/galera/client20/transaction100/wr55/key100/zipf/result_77.txt is completed.\n",
      "文件名为:  ../DATATEST/galera/client20/transaction100/wr55/key100/zipf/hist_78.txt\n",
      "../DATATEST/galera/client20/transaction100/wr55/key100/zipf/result_78.txt is completed.\n",
      "文件名为:  ../DATATEST/galera/client20/transaction100/wr55/key100/zipf/hist_79.txt\n",
      "../DATATEST/galera/client20/transaction100/wr55/key100/zipf/result_79.txt is completed.\n",
      "文件名为:  ../DATATEST/galera/client20/transaction100/wr55/key100/zipf/hist_80.txt\n",
      "../DATATEST/galera/client20/transaction100/wr55/key100/zipf/result_80.txt is completed.\n",
      "文件名为:  ../DATATEST/galera/client20/transaction100/wr55/key100/zipf/hist_81.txt\n",
      "../DATATEST/galera/client20/transaction100/wr55/key100/zipf/result_81.txt is completed.\n",
      "文件名为:  ../DATATEST/galera/client20/transaction100/wr55/key100/zipf/hist_82.txt\n",
      "../DATATEST/galera/client20/transaction100/wr55/key100/zipf/result_82.txt is completed.\n",
      "文件名为:  ../DATATEST/galera/client20/transaction100/wr55/key100/zipf/hist_83.txt\n",
      "../DATATEST/galera/client20/transaction100/wr55/key100/zipf/result_83.txt is completed.\n",
      "文件名为:  ../DATATEST/galera/client20/transaction100/wr55/key100/zipf/hist_84.txt\n",
      "../DATATEST/galera/client20/transaction100/wr55/key100/zipf/result_84.txt is completed.\n",
      "文件名为:  ../DATATEST/galera/client20/transaction100/wr55/key100/zipf/hist_85.txt\n",
      "../DATATEST/galera/client20/transaction100/wr55/key100/zipf/result_85.txt is completed.\n",
      "文件名为:  ../DATATEST/galera/client20/transaction100/wr55/key100/zipf/hist_86.txt\n",
      "../DATATEST/galera/client20/transaction100/wr55/key100/zipf/result_86.txt is completed.\n",
      "文件名为:  ../DATATEST/galera/client20/transaction100/wr55/key100/zipf/hist_87.txt\n",
      "../DATATEST/galera/client20/transaction100/wr55/key100/zipf/result_87.txt is completed.\n",
      "文件名为:  ../DATATEST/galera/client20/transaction100/wr55/key100/zipf/hist_88.txt\n",
      "../DATATEST/galera/client20/transaction100/wr55/key100/zipf/result_88.txt is completed.\n",
      "文件名为:  ../DATATEST/galera/client20/transaction100/wr55/key100/zipf/hist_89.txt\n"
     ]
    },
    {
     "ename": "KeyboardInterrupt",
     "evalue": "",
     "output_type": "error",
     "traceback": [
      "\u001b[0;31m---------------------------------------------------------------------------\u001b[0m",
      "\u001b[0;31mKeyboardInterrupt\u001b[0m                         Traceback (most recent call last)",
      "\u001b[0;32m<ipython-input-23-1d04dbbe3469>\u001b[0m in \u001b[0;36m<module>\u001b[0;34m\u001b[0m\n\u001b[1;32m     29\u001b[0m \u001b[0;32mif\u001b[0m \u001b[0m__name__\u001b[0m \u001b[0;34m==\u001b[0m \u001b[0;34m'__main__'\u001b[0m\u001b[0;34m:\u001b[0m\u001b[0;34m\u001b[0m\u001b[0;34m\u001b[0m\u001b[0m\n\u001b[1;32m     30\u001b[0m     \u001b[0;32mtry\u001b[0m\u001b[0;34m:\u001b[0m\u001b[0;34m\u001b[0m\u001b[0;34m\u001b[0m\u001b[0m\n\u001b[0;32m---> 31\u001b[0;31m         \u001b[0mmain\u001b[0m\u001b[0;34m(\u001b[0m\u001b[0;34m)\u001b[0m\u001b[0;34m\u001b[0m\u001b[0;34m\u001b[0m\u001b[0m\n\u001b[0m\u001b[1;32m     32\u001b[0m         \u001b[0mprint\u001b[0m\u001b[0;34m(\u001b[0m\u001b[0;34m'DONE!'\u001b[0m\u001b[0;34m)\u001b[0m\u001b[0;34m\u001b[0m\u001b[0;34m\u001b[0m\u001b[0m\n\u001b[1;32m     33\u001b[0m     \u001b[0;32mexcept\u001b[0m \u001b[0mException\u001b[0m \u001b[0;32mas\u001b[0m \u001b[0me\u001b[0m\u001b[0;34m:\u001b[0m\u001b[0;34m\u001b[0m\u001b[0;34m\u001b[0m\u001b[0m\n",
      "\u001b[0;32m<ipython-input-23-1d04dbbe3469>\u001b[0m in \u001b[0;36mmain\u001b[0;34m()\u001b[0m\n\u001b[1;32m     19\u001b[0m                         \u001b[0mcreate_variables\u001b[0m\u001b[0;34m(\u001b[0m\u001b[0;36m1\u001b[0m\u001b[0;34m,\u001b[0m\u001b[0mk\u001b[0m\u001b[0;34m)\u001b[0m\u001b[0;34m\u001b[0m\u001b[0;34m\u001b[0m\u001b[0m\n\u001b[1;32m     20\u001b[0m                         \u001b[0mlist_of_ops\u001b[0m \u001b[0;34m=\u001b[0m \u001b[0mgenerate_clients\u001b[0m\u001b[0;34m(\u001b[0m\u001b[0mgenerate_file\u001b[0m\u001b[0;34m,\u001b[0m\u001b[0mc\u001b[0m\u001b[0;34m,\u001b[0m\u001b[0mt\u001b[0m\u001b[0;34m,\u001b[0m\u001b[0;36m1\u001b[0m\u001b[0;34m)\u001b[0m\u001b[0;34m\u001b[0m\u001b[0;34m\u001b[0m\u001b[0m\n\u001b[0;32m---> 21\u001b[0;31m                         \u001b[0mresult_single_history\u001b[0m \u001b[0;34m=\u001b[0m \u001b[0mexec_history\u001b[0m\u001b[0;34m(\u001b[0m\u001b[0mlist_of_ops\u001b[0m\u001b[0;34m)\u001b[0m\u001b[0;34m\u001b[0m\u001b[0;34m\u001b[0m\u001b[0m\n\u001b[0m\u001b[1;32m     22\u001b[0m                         \u001b[0mwrite_result\u001b[0m\u001b[0;34m(\u001b[0m\u001b[0mresult_single_history\u001b[0m\u001b[0;34m,\u001b[0m\u001b[0mresult_file\u001b[0m\u001b[0;34m)\u001b[0m\u001b[0;34m\u001b[0m\u001b[0;34m\u001b[0m\u001b[0m\n\u001b[1;32m     23\u001b[0m                         \u001b[0mdrop_tables\u001b[0m\u001b[0;34m(\u001b[0m\u001b[0;36m4\u001b[0m\u001b[0;34m)\u001b[0m\u001b[0;34m\u001b[0m\u001b[0;34m\u001b[0m\u001b[0m\n",
      "\u001b[0;32m<ipython-input-18-b9e54f0aa478>\u001b[0m in \u001b[0;36mexec_history\u001b[0;34m(list_of_ops)\u001b[0m\n\u001b[1;32m     14\u001b[0m     \u001b[0;32mfor\u001b[0m \u001b[0mi\u001b[0m \u001b[0;32min\u001b[0m \u001b[0mrange\u001b[0m\u001b[0;34m(\u001b[0m\u001b[0;36m0\u001b[0m\u001b[0;34m,\u001b[0m\u001b[0mn_clients\u001b[0m\u001b[0;34m)\u001b[0m\u001b[0;34m:\u001b[0m\u001b[0;34m\u001b[0m\u001b[0;34m\u001b[0m\u001b[0m\n\u001b[1;32m     15\u001b[0m         \u001b[0mclient\u001b[0m \u001b[0;34m=\u001b[0m \u001b[0mdocker\u001b[0m\u001b[0;34m.\u001b[0m\u001b[0mfrom_env\u001b[0m\u001b[0;34m(\u001b[0m\u001b[0;34m)\u001b[0m\u001b[0;34m\u001b[0m\u001b[0;34m\u001b[0m\u001b[0m\n\u001b[0;32m---> 16\u001b[0;31m         \u001b[0mnew_client\u001b[0m \u001b[0;34m=\u001b[0m \u001b[0mMyThread\u001b[0m\u001b[0;34m(\u001b[0m\u001b[0mexec_session\u001b[0m\u001b[0;34m,\u001b[0m\u001b[0;34m(\u001b[0m\u001b[0mlist_of_ops\u001b[0m\u001b[0;34m[\u001b[0m\u001b[0mi\u001b[0m\u001b[0;34m]\u001b[0m\u001b[0;34m,\u001b[0m\u001b[0mclient\u001b[0m\u001b[0;34m,\u001b[0m \u001b[0mi\u001b[0m\u001b[0;34m,\u001b[0m\u001b[0;34m)\u001b[0m\u001b[0;34m,\u001b[0m \u001b[0mexec_session\u001b[0m\u001b[0;34m.\u001b[0m\u001b[0m__name__\u001b[0m\u001b[0;34m)\u001b[0m\u001b[0;34m\u001b[0m\u001b[0;34m\u001b[0m\u001b[0m\n\u001b[0m\u001b[1;32m     17\u001b[0m         \u001b[0mthread_clients\u001b[0m\u001b[0;34m.\u001b[0m\u001b[0mappend\u001b[0m\u001b[0;34m(\u001b[0m\u001b[0mnew_client\u001b[0m\u001b[0;34m)\u001b[0m\u001b[0;34m\u001b[0m\u001b[0;34m\u001b[0m\u001b[0m\n\u001b[1;32m     18\u001b[0m     \u001b[0;32mfor\u001b[0m \u001b[0mi\u001b[0m \u001b[0;32min\u001b[0m \u001b[0mrange\u001b[0m\u001b[0;34m(\u001b[0m\u001b[0;36m0\u001b[0m\u001b[0;34m,\u001b[0m\u001b[0mn_clients\u001b[0m\u001b[0;34m)\u001b[0m\u001b[0;34m:\u001b[0m\u001b[0;34m\u001b[0m\u001b[0;34m\u001b[0m\u001b[0m\n",
      "\u001b[0;32m<ipython-input-12-3f212ecdfa86>\u001b[0m in \u001b[0;36m__init__\u001b[0;34m(self, func, args, name)\u001b[0m\n\u001b[1;32m      5\u001b[0m         \u001b[0mself\u001b[0m\u001b[0;34m.\u001b[0m\u001b[0mfunc\u001b[0m \u001b[0;34m=\u001b[0m \u001b[0mfunc\u001b[0m\u001b[0;34m\u001b[0m\u001b[0;34m\u001b[0m\u001b[0m\n\u001b[1;32m      6\u001b[0m         \u001b[0mself\u001b[0m\u001b[0;34m.\u001b[0m\u001b[0margs\u001b[0m \u001b[0;34m=\u001b[0m \u001b[0margs\u001b[0m\u001b[0;34m\u001b[0m\u001b[0;34m\u001b[0m\u001b[0m\n\u001b[0;32m----> 7\u001b[0;31m         \u001b[0mself\u001b[0m\u001b[0;34m.\u001b[0m\u001b[0mresult\u001b[0m \u001b[0;34m=\u001b[0m \u001b[0mself\u001b[0m\u001b[0;34m.\u001b[0m\u001b[0mfunc\u001b[0m\u001b[0;34m(\u001b[0m\u001b[0;34m*\u001b[0m\u001b[0mself\u001b[0m\u001b[0;34m.\u001b[0m\u001b[0margs\u001b[0m\u001b[0;34m)\u001b[0m\u001b[0;34m\u001b[0m\u001b[0;34m\u001b[0m\u001b[0m\n\u001b[0m\u001b[1;32m      8\u001b[0m \u001b[0;34m\u001b[0m\u001b[0m\n\u001b[1;32m      9\u001b[0m     \u001b[0;32mdef\u001b[0m \u001b[0mget_result\u001b[0m\u001b[0;34m(\u001b[0m\u001b[0mself\u001b[0m\u001b[0;34m)\u001b[0m\u001b[0;34m:\u001b[0m\u001b[0;34m\u001b[0m\u001b[0;34m\u001b[0m\u001b[0m\n",
      "\u001b[0;32m<ipython-input-22-99d2f3442876>\u001b[0m in \u001b[0;36mexec_session\u001b[0;34m(list_of_ops, client, client_id)\u001b[0m\n\u001b[1;32m     27\u001b[0m                 \u001b[0mval\u001b[0m \u001b[0;34m=\u001b[0m \u001b[0mint\u001b[0m\u001b[0;34m(\u001b[0m\u001b[0mop\u001b[0m\u001b[0;34m[\u001b[0m\u001b[0;36m2\u001b[0m\u001b[0;34m]\u001b[0m\u001b[0;34m)\u001b[0m\u001b[0;34m\u001b[0m\u001b[0;34m\u001b[0m\u001b[0m\n\u001b[1;32m     28\u001b[0m                 \u001b[0mcmd\u001b[0m \u001b[0;34m=\u001b[0m \u001b[0;34m'mysql -uroot --execute=\"UPDATE galera.variables SET val={0} WHERE var={1}\"'\u001b[0m\u001b[0;34m.\u001b[0m\u001b[0mformat\u001b[0m\u001b[0;34m(\u001b[0m\u001b[0mstr\u001b[0m\u001b[0;34m(\u001b[0m\u001b[0mval\u001b[0m\u001b[0;34m)\u001b[0m\u001b[0;34m,\u001b[0m\u001b[0mstr\u001b[0m\u001b[0;34m(\u001b[0m\u001b[0mkey\u001b[0m\u001b[0;34m)\u001b[0m\u001b[0;34m)\u001b[0m\u001b[0;34m\u001b[0m\u001b[0;34m\u001b[0m\u001b[0m\n\u001b[0;32m---> 29\u001b[0;31m                 \u001b[0mcontainer\u001b[0m\u001b[0;34m.\u001b[0m\u001b[0mexec_run\u001b[0m\u001b[0;34m(\u001b[0m\u001b[0mcmd\u001b[0m\u001b[0;34m)\u001b[0m\u001b[0;34m\u001b[0m\u001b[0;34m\u001b[0m\u001b[0m\n\u001b[0m\u001b[1;32m     30\u001b[0m \u001b[0;34m\u001b[0m\u001b[0m\n\u001b[1;32m     31\u001b[0m                 \u001b[0mcmd2\u001b[0m \u001b[0;34m=\u001b[0m \u001b[0;34m'mysql -uroot --execute=\"SELECT val FROM galera.variables WHERE var={};\" '\u001b[0m\u001b[0;34m.\u001b[0m\u001b[0mformat\u001b[0m\u001b[0;34m(\u001b[0m\u001b[0mstr\u001b[0m\u001b[0;34m(\u001b[0m\u001b[0mkey\u001b[0m\u001b[0;34m)\u001b[0m\u001b[0;34m)\u001b[0m\u001b[0;34m\u001b[0m\u001b[0;34m\u001b[0m\u001b[0m\n",
      "\u001b[0;32m~/anaconda3/lib/python3.7/site-packages/docker/models/containers.py\u001b[0m in \u001b[0;36mexec_run\u001b[0;34m(self, cmd, stdout, stderr, stdin, tty, privileged, user, detach, stream, socket, environment, workdir, demux)\u001b[0m\n\u001b[1;32m    198\u001b[0m         exec_output = self.client.api.exec_start(\n\u001b[1;32m    199\u001b[0m             \u001b[0mresp\u001b[0m\u001b[0;34m[\u001b[0m\u001b[0;34m'Id'\u001b[0m\u001b[0;34m]\u001b[0m\u001b[0;34m,\u001b[0m \u001b[0mdetach\u001b[0m\u001b[0;34m=\u001b[0m\u001b[0mdetach\u001b[0m\u001b[0;34m,\u001b[0m \u001b[0mtty\u001b[0m\u001b[0;34m=\u001b[0m\u001b[0mtty\u001b[0m\u001b[0;34m,\u001b[0m \u001b[0mstream\u001b[0m\u001b[0;34m=\u001b[0m\u001b[0mstream\u001b[0m\u001b[0;34m,\u001b[0m \u001b[0msocket\u001b[0m\u001b[0;34m=\u001b[0m\u001b[0msocket\u001b[0m\u001b[0;34m,\u001b[0m\u001b[0;34m\u001b[0m\u001b[0;34m\u001b[0m\u001b[0m\n\u001b[0;32m--> 200\u001b[0;31m             \u001b[0mdemux\u001b[0m\u001b[0;34m=\u001b[0m\u001b[0mdemux\u001b[0m\u001b[0;34m\u001b[0m\u001b[0;34m\u001b[0m\u001b[0m\n\u001b[0m\u001b[1;32m    201\u001b[0m         )\n\u001b[1;32m    202\u001b[0m         \u001b[0;32mif\u001b[0m \u001b[0msocket\u001b[0m \u001b[0;32mor\u001b[0m \u001b[0mstream\u001b[0m\u001b[0;34m:\u001b[0m\u001b[0;34m\u001b[0m\u001b[0;34m\u001b[0m\u001b[0m\n",
      "\u001b[0;32m~/anaconda3/lib/python3.7/site-packages/docker/utils/decorators.py\u001b[0m in \u001b[0;36mwrapped\u001b[0;34m(self, resource_id, *args, **kwargs)\u001b[0m\n\u001b[1;32m     17\u001b[0m                     \u001b[0;34m'Resource ID was not provided'\u001b[0m\u001b[0;34m\u001b[0m\u001b[0;34m\u001b[0m\u001b[0m\n\u001b[1;32m     18\u001b[0m                 )\n\u001b[0;32m---> 19\u001b[0;31m             \u001b[0;32mreturn\u001b[0m \u001b[0mf\u001b[0m\u001b[0;34m(\u001b[0m\u001b[0mself\u001b[0m\u001b[0;34m,\u001b[0m \u001b[0mresource_id\u001b[0m\u001b[0;34m,\u001b[0m \u001b[0;34m*\u001b[0m\u001b[0margs\u001b[0m\u001b[0;34m,\u001b[0m \u001b[0;34m**\u001b[0m\u001b[0mkwargs\u001b[0m\u001b[0;34m)\u001b[0m\u001b[0;34m\u001b[0m\u001b[0;34m\u001b[0m\u001b[0m\n\u001b[0m\u001b[1;32m     20\u001b[0m         \u001b[0;32mreturn\u001b[0m \u001b[0mwrapped\u001b[0m\u001b[0;34m\u001b[0m\u001b[0;34m\u001b[0m\u001b[0m\n\u001b[1;32m     21\u001b[0m     \u001b[0;32mreturn\u001b[0m \u001b[0mdecorator\u001b[0m\u001b[0;34m\u001b[0m\u001b[0;34m\u001b[0m\u001b[0m\n",
      "\u001b[0;32m~/anaconda3/lib/python3.7/site-packages/docker/api/exec_api.py\u001b[0m in \u001b[0;36mexec_start\u001b[0;34m(self, exec_id, detach, tty, stream, socket, demux)\u001b[0m\n\u001b[1;32m    167\u001b[0m         \u001b[0;32mif\u001b[0m \u001b[0msocket\u001b[0m\u001b[0;34m:\u001b[0m\u001b[0;34m\u001b[0m\u001b[0;34m\u001b[0m\u001b[0m\n\u001b[1;32m    168\u001b[0m             \u001b[0;32mreturn\u001b[0m \u001b[0mself\u001b[0m\u001b[0;34m.\u001b[0m\u001b[0m_get_raw_response_socket\u001b[0m\u001b[0;34m(\u001b[0m\u001b[0mres\u001b[0m\u001b[0;34m)\u001b[0m\u001b[0;34m\u001b[0m\u001b[0;34m\u001b[0m\u001b[0m\n\u001b[0;32m--> 169\u001b[0;31m         \u001b[0;32mreturn\u001b[0m \u001b[0mself\u001b[0m\u001b[0;34m.\u001b[0m\u001b[0m_read_from_socket\u001b[0m\u001b[0;34m(\u001b[0m\u001b[0mres\u001b[0m\u001b[0;34m,\u001b[0m \u001b[0mstream\u001b[0m\u001b[0;34m,\u001b[0m \u001b[0mtty\u001b[0m\u001b[0;34m=\u001b[0m\u001b[0mtty\u001b[0m\u001b[0;34m,\u001b[0m \u001b[0mdemux\u001b[0m\u001b[0;34m=\u001b[0m\u001b[0mdemux\u001b[0m\u001b[0;34m)\u001b[0m\u001b[0;34m\u001b[0m\u001b[0;34m\u001b[0m\u001b[0m\n\u001b[0m",
      "\u001b[0;32m~/anaconda3/lib/python3.7/site-packages/docker/api/client.py\u001b[0m in \u001b[0;36m_read_from_socket\u001b[0;34m(self, response, stream, tty, demux)\u001b[0m\n\u001b[1;32m    420\u001b[0m         \u001b[0;32melse\u001b[0m\u001b[0;34m:\u001b[0m\u001b[0;34m\u001b[0m\u001b[0;34m\u001b[0m\u001b[0m\n\u001b[1;32m    421\u001b[0m             \u001b[0;31m# Wait for all the frames, concatenate them, and return the result\u001b[0m\u001b[0;34m\u001b[0m\u001b[0;34m\u001b[0m\u001b[0;34m\u001b[0m\u001b[0m\n\u001b[0;32m--> 422\u001b[0;31m             \u001b[0;32mreturn\u001b[0m \u001b[0mconsume_socket_output\u001b[0m\u001b[0;34m(\u001b[0m\u001b[0mgen\u001b[0m\u001b[0;34m,\u001b[0m \u001b[0mdemux\u001b[0m\u001b[0;34m=\u001b[0m\u001b[0mdemux\u001b[0m\u001b[0;34m)\u001b[0m\u001b[0;34m\u001b[0m\u001b[0;34m\u001b[0m\u001b[0m\n\u001b[0m\u001b[1;32m    423\u001b[0m \u001b[0;34m\u001b[0m\u001b[0m\n\u001b[1;32m    424\u001b[0m     \u001b[0;32mdef\u001b[0m \u001b[0m_disable_socket_timeout\u001b[0m\u001b[0;34m(\u001b[0m\u001b[0mself\u001b[0m\u001b[0;34m,\u001b[0m \u001b[0msocket\u001b[0m\u001b[0;34m)\u001b[0m\u001b[0;34m:\u001b[0m\u001b[0;34m\u001b[0m\u001b[0;34m\u001b[0m\u001b[0m\n",
      "\u001b[0;32m~/anaconda3/lib/python3.7/site-packages/docker/utils/socket.py\u001b[0m in \u001b[0;36mconsume_socket_output\u001b[0;34m(frames, demux)\u001b[0m\n\u001b[1;32m    135\u001b[0m         \u001b[0;31m# If the streams are multiplexed, the generator returns strings, that\u001b[0m\u001b[0;34m\u001b[0m\u001b[0;34m\u001b[0m\u001b[0;34m\u001b[0m\u001b[0m\n\u001b[1;32m    136\u001b[0m         \u001b[0;31m# we just need to concatenate.\u001b[0m\u001b[0;34m\u001b[0m\u001b[0;34m\u001b[0m\u001b[0;34m\u001b[0m\u001b[0m\n\u001b[0;32m--> 137\u001b[0;31m         \u001b[0;32mreturn\u001b[0m \u001b[0msix\u001b[0m\u001b[0;34m.\u001b[0m\u001b[0mbinary_type\u001b[0m\u001b[0;34m(\u001b[0m\u001b[0;34m)\u001b[0m\u001b[0;34m.\u001b[0m\u001b[0mjoin\u001b[0m\u001b[0;34m(\u001b[0m\u001b[0mframes\u001b[0m\u001b[0;34m)\u001b[0m\u001b[0;34m\u001b[0m\u001b[0;34m\u001b[0m\u001b[0m\n\u001b[0m\u001b[1;32m    138\u001b[0m \u001b[0;34m\u001b[0m\u001b[0m\n\u001b[1;32m    139\u001b[0m     \u001b[0;31m# If the streams are demultiplexed, the generator yields tuples\u001b[0m\u001b[0;34m\u001b[0m\u001b[0;34m\u001b[0m\u001b[0;34m\u001b[0m\u001b[0m\n",
      "\u001b[0;32m~/anaconda3/lib/python3.7/site-packages/docker/api/client.py\u001b[0m in \u001b[0;36m<genexpr>\u001b[0;34m(.0)\u001b[0m\n\u001b[1;32m    414\u001b[0m         \u001b[0;32melse\u001b[0m\u001b[0;34m:\u001b[0m\u001b[0;34m\u001b[0m\u001b[0;34m\u001b[0m\u001b[0m\n\u001b[1;32m    415\u001b[0m             \u001b[0;31m# The generator will output strings\u001b[0m\u001b[0;34m\u001b[0m\u001b[0;34m\u001b[0m\u001b[0;34m\u001b[0m\u001b[0m\n\u001b[0;32m--> 416\u001b[0;31m             \u001b[0mgen\u001b[0m \u001b[0;34m=\u001b[0m \u001b[0;34m(\u001b[0m\u001b[0mdata\u001b[0m \u001b[0;32mfor\u001b[0m \u001b[0;34m(\u001b[0m\u001b[0m_\u001b[0m\u001b[0;34m,\u001b[0m \u001b[0mdata\u001b[0m\u001b[0;34m)\u001b[0m \u001b[0;32min\u001b[0m \u001b[0mgen\u001b[0m\u001b[0;34m)\u001b[0m\u001b[0;34m\u001b[0m\u001b[0;34m\u001b[0m\u001b[0m\n\u001b[0m\u001b[1;32m    417\u001b[0m \u001b[0;34m\u001b[0m\u001b[0m\n\u001b[1;32m    418\u001b[0m         \u001b[0;32mif\u001b[0m \u001b[0mstream\u001b[0m\u001b[0;34m:\u001b[0m\u001b[0;34m\u001b[0m\u001b[0;34m\u001b[0m\u001b[0m\n",
      "\u001b[0;32m~/anaconda3/lib/python3.7/site-packages/docker/utils/socket.py\u001b[0m in \u001b[0;36mframes_iter_no_tty\u001b[0;34m(socket)\u001b[0m\n\u001b[1;32m     92\u001b[0m     \"\"\"\n\u001b[1;32m     93\u001b[0m     \u001b[0;32mwhile\u001b[0m \u001b[0;32mTrue\u001b[0m\u001b[0;34m:\u001b[0m\u001b[0;34m\u001b[0m\u001b[0;34m\u001b[0m\u001b[0m\n\u001b[0;32m---> 94\u001b[0;31m         \u001b[0;34m(\u001b[0m\u001b[0mstream\u001b[0m\u001b[0;34m,\u001b[0m \u001b[0mn\u001b[0m\u001b[0;34m)\u001b[0m \u001b[0;34m=\u001b[0m \u001b[0mnext_frame_header\u001b[0m\u001b[0;34m(\u001b[0m\u001b[0msocket\u001b[0m\u001b[0;34m)\u001b[0m\u001b[0;34m\u001b[0m\u001b[0;34m\u001b[0m\u001b[0m\n\u001b[0m\u001b[1;32m     95\u001b[0m         \u001b[0;32mif\u001b[0m \u001b[0mn\u001b[0m \u001b[0;34m<\u001b[0m \u001b[0;36m0\u001b[0m\u001b[0;34m:\u001b[0m\u001b[0;34m\u001b[0m\u001b[0;34m\u001b[0m\u001b[0m\n\u001b[1;32m     96\u001b[0m             \u001b[0;32mbreak\u001b[0m\u001b[0;34m\u001b[0m\u001b[0;34m\u001b[0m\u001b[0m\n",
      "\u001b[0;32m~/anaconda3/lib/python3.7/site-packages/docker/utils/socket.py\u001b[0m in \u001b[0;36mnext_frame_header\u001b[0;34m(socket)\u001b[0m\n\u001b[1;32m     64\u001b[0m     \"\"\"\n\u001b[1;32m     65\u001b[0m     \u001b[0;32mtry\u001b[0m\u001b[0;34m:\u001b[0m\u001b[0;34m\u001b[0m\u001b[0;34m\u001b[0m\u001b[0m\n\u001b[0;32m---> 66\u001b[0;31m         \u001b[0mdata\u001b[0m \u001b[0;34m=\u001b[0m \u001b[0mread_exactly\u001b[0m\u001b[0;34m(\u001b[0m\u001b[0msocket\u001b[0m\u001b[0;34m,\u001b[0m \u001b[0;36m8\u001b[0m\u001b[0;34m)\u001b[0m\u001b[0;34m\u001b[0m\u001b[0;34m\u001b[0m\u001b[0m\n\u001b[0m\u001b[1;32m     67\u001b[0m     \u001b[0;32mexcept\u001b[0m \u001b[0mSocketError\u001b[0m\u001b[0;34m:\u001b[0m\u001b[0;34m\u001b[0m\u001b[0;34m\u001b[0m\u001b[0m\n\u001b[1;32m     68\u001b[0m         \u001b[0;32mreturn\u001b[0m \u001b[0;34m(\u001b[0m\u001b[0;34m-\u001b[0m\u001b[0;36m1\u001b[0m\u001b[0;34m,\u001b[0m \u001b[0;34m-\u001b[0m\u001b[0;36m1\u001b[0m\u001b[0;34m)\u001b[0m\u001b[0;34m\u001b[0m\u001b[0;34m\u001b[0m\u001b[0m\n",
      "\u001b[0;32m~/anaconda3/lib/python3.7/site-packages/docker/utils/socket.py\u001b[0m in \u001b[0;36mread_exactly\u001b[0;34m(socket, n)\u001b[0m\n\u001b[1;32m     49\u001b[0m     \u001b[0mdata\u001b[0m \u001b[0;34m=\u001b[0m \u001b[0msix\u001b[0m\u001b[0;34m.\u001b[0m\u001b[0mbinary_type\u001b[0m\u001b[0;34m(\u001b[0m\u001b[0;34m)\u001b[0m\u001b[0;34m\u001b[0m\u001b[0;34m\u001b[0m\u001b[0m\n\u001b[1;32m     50\u001b[0m     \u001b[0;32mwhile\u001b[0m \u001b[0mlen\u001b[0m\u001b[0;34m(\u001b[0m\u001b[0mdata\u001b[0m\u001b[0;34m)\u001b[0m \u001b[0;34m<\u001b[0m \u001b[0mn\u001b[0m\u001b[0;34m:\u001b[0m\u001b[0;34m\u001b[0m\u001b[0;34m\u001b[0m\u001b[0m\n\u001b[0;32m---> 51\u001b[0;31m         \u001b[0mnext_data\u001b[0m \u001b[0;34m=\u001b[0m \u001b[0mread\u001b[0m\u001b[0;34m(\u001b[0m\u001b[0msocket\u001b[0m\u001b[0;34m,\u001b[0m \u001b[0mn\u001b[0m \u001b[0;34m-\u001b[0m \u001b[0mlen\u001b[0m\u001b[0;34m(\u001b[0m\u001b[0mdata\u001b[0m\u001b[0;34m)\u001b[0m\u001b[0;34m)\u001b[0m\u001b[0;34m\u001b[0m\u001b[0;34m\u001b[0m\u001b[0m\n\u001b[0m\u001b[1;32m     52\u001b[0m         \u001b[0;32mif\u001b[0m \u001b[0;32mnot\u001b[0m \u001b[0mnext_data\u001b[0m\u001b[0;34m:\u001b[0m\u001b[0;34m\u001b[0m\u001b[0;34m\u001b[0m\u001b[0m\n\u001b[1;32m     53\u001b[0m             \u001b[0;32mraise\u001b[0m \u001b[0mSocketError\u001b[0m\u001b[0;34m(\u001b[0m\u001b[0;34m\"Unexpected EOF\"\u001b[0m\u001b[0;34m)\u001b[0m\u001b[0;34m\u001b[0m\u001b[0;34m\u001b[0m\u001b[0m\n",
      "\u001b[0;32m~/anaconda3/lib/python3.7/site-packages/docker/utils/socket.py\u001b[0m in \u001b[0;36mread\u001b[0;34m(socket, n)\u001b[0m\n\u001b[1;32m     29\u001b[0m \u001b[0;34m\u001b[0m\u001b[0m\n\u001b[1;32m     30\u001b[0m     \u001b[0;32mif\u001b[0m \u001b[0msix\u001b[0m\u001b[0;34m.\u001b[0m\u001b[0mPY3\u001b[0m \u001b[0;32mand\u001b[0m \u001b[0;32mnot\u001b[0m \u001b[0misinstance\u001b[0m\u001b[0;34m(\u001b[0m\u001b[0msocket\u001b[0m\u001b[0;34m,\u001b[0m \u001b[0mNpipeSocket\u001b[0m\u001b[0;34m)\u001b[0m\u001b[0;34m:\u001b[0m\u001b[0;34m\u001b[0m\u001b[0;34m\u001b[0m\u001b[0m\n\u001b[0;32m---> 31\u001b[0;31m         \u001b[0mselect\u001b[0m\u001b[0;34m.\u001b[0m\u001b[0mselect\u001b[0m\u001b[0;34m(\u001b[0m\u001b[0;34m[\u001b[0m\u001b[0msocket\u001b[0m\u001b[0;34m]\u001b[0m\u001b[0;34m,\u001b[0m \u001b[0;34m[\u001b[0m\u001b[0;34m]\u001b[0m\u001b[0;34m,\u001b[0m \u001b[0;34m[\u001b[0m\u001b[0;34m]\u001b[0m\u001b[0;34m)\u001b[0m\u001b[0;34m\u001b[0m\u001b[0;34m\u001b[0m\u001b[0m\n\u001b[0m\u001b[1;32m     32\u001b[0m \u001b[0;34m\u001b[0m\u001b[0m\n\u001b[1;32m     33\u001b[0m     \u001b[0;32mtry\u001b[0m\u001b[0;34m:\u001b[0m\u001b[0;34m\u001b[0m\u001b[0;34m\u001b[0m\u001b[0m\n",
      "\u001b[0;31mKeyboardInterrupt\u001b[0m: "
     ]
    }
   ],
   "source": [
    "def main():\n",
    "    client_num = [20]\n",
    "    transaction_num = [100]\n",
    "    wr_profile = [55]\n",
    "    key_num = [100]\n",
    "    \n",
    "    for c in client_num:\n",
    "        for t in transaction_num:\n",
    "            for wr in wr_profile:\n",
    "                for k in key_num:\n",
    "                    path = '../DATATEST/galera/client' + str(c) + '/transaction' + str(t) + '/wr' + str(wr) + '/key' +str(k) +'/zipf/'\n",
    "                    \n",
    "#                     zipf_generator(path,100,c,t,1,k,wr)\n",
    "                    for i in range(1,100):\n",
    "#                         create_containers(c)\n",
    "                        generate_file = path + 'hist_'+str(i)+'.txt'\n",
    "                        result_file = path + 'result_'+str(i)+'.txt'\n",
    "\n",
    "                        create_variables(1,k)\n",
    "                        list_of_ops = generate_clients(generate_file,c,t,1)\n",
    "                        result_single_history = exec_history(list_of_ops)\n",
    "                        write_result(result_single_history,result_file)\n",
    "                        drop_tables(4)\n",
    "#                         stop_containers(c)\n",
    "                        \n",
    "                        \n",
    "                        \n",
    "\n",
    "if __name__ == '__main__':\n",
    "    try:\n",
    "        main()\n",
    "        print('DONE!')\n",
    "    except Exception as e:\n",
    "        print('Error: {}'.format(e))\n"
   ]
  },
  {
   "cell_type": "code",
   "execution_count": null,
   "metadata": {},
   "outputs": [],
   "source": []
  }
 ],
 "metadata": {
  "kernelspec": {
   "display_name": "Python 3",
   "language": "python",
   "name": "python3"
  },
  "language_info": {
   "codemirror_mode": {
    "name": "ipython",
    "version": 3
   },
   "file_extension": ".py",
   "mimetype": "text/x-python",
   "name": "python",
   "nbconvert_exporter": "python",
   "pygments_lexer": "ipython3",
   "version": "3.7.4"
  },
  "latex_envs": {
   "LaTeX_envs_menu_present": true,
   "autoclose": false,
   "autocomplete": true,
   "bibliofile": "biblio.bib",
   "cite_by": "apalike",
   "current_citInitial": 1,
   "eqLabelWithNumbers": true,
   "eqNumInitial": 1,
   "hotkeys": {
    "equation": "Ctrl-E",
    "itemize": "Ctrl-I"
   },
   "labels_anchors": false,
   "latex_user_defs": false,
   "report_style_numbering": false,
   "user_envs_cfg": false
  },
  "toc": {
   "base_numbering": 1,
   "nav_menu": {},
   "number_sections": true,
   "sideBar": true,
   "skip_h1_title": false,
   "title_cell": "Table of Contents",
   "title_sidebar": "Contents",
   "toc_cell": false,
   "toc_position": {},
   "toc_section_display": true,
   "toc_window_display": false
  },
  "varInspector": {
   "cols": {
    "lenName": 16,
    "lenType": 16,
    "lenVar": 40
   },
   "kernels_config": {
    "python": {
     "delete_cmd_postfix": "",
     "delete_cmd_prefix": "del ",
     "library": "var_list.py",
     "varRefreshCmd": "print(var_dic_list())"
    },
    "r": {
     "delete_cmd_postfix": ") ",
     "delete_cmd_prefix": "rm(",
     "library": "var_list.r",
     "varRefreshCmd": "cat(var_dic_list()) "
    }
   },
   "types_to_exclude": [
    "module",
    "function",
    "builtin_function_or_method",
    "instance",
    "_Feature"
   ],
   "window_display": false
  }
 },
 "nbformat": 4,
 "nbformat_minor": 2
}
